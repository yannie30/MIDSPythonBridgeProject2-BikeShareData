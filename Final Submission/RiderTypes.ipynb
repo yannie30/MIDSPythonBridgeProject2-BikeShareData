{
 "cells": [
  {
   "cell_type": "markdown",
   "metadata": {},
   "source": [
    "# Rider Types Analysis "
   ]
  },
  {
   "cell_type": "markdown",
   "metadata": {},
   "source": [
    "### San Francisco Data Import"
   ]
  },
  {
   "cell_type": "code",
   "execution_count": 3,
   "metadata": {
    "collapsed": false
   },
   "outputs": [
    {
     "data": {
      "text/plain": [
       "Index(['tripduration', 'starttime', 'start station name', 'start station id',\n",
       "       'stoptime', 'end station name', 'end station id', 'bikeid', 'usertype',\n",
       "       'city', 'weather key', 'max temp', 'min temp', 'avg wind',\n",
       "       'Pecipitation'],\n",
       "      dtype='object')"
      ]
     },
     "execution_count": 3,
     "metadata": {},
     "output_type": "execute_result"
    }
   ],
   "source": [
    "# Data Set Up \n",
    "\n",
    "%matplotlib inline\n",
    "import pandas as pd \n",
    "import numpy as np \n",
    "import datetime as dt \n",
    "import matplotlib.pyplot as plt\n",
    "\n",
    "sf_data= pd.read_csv('sf_merged_data.csv', parse_dates=['starttime','stoptime'], low_memory= False)\n",
    "del sf_data['Unnamed: 0']\n",
    "sf_data.columns"
   ]
  },
  {
   "cell_type": "markdown",
   "metadata": {},
   "source": [
    "### NYC Data Import"
   ]
  },
  {
   "cell_type": "code",
   "execution_count": 4,
   "metadata": {
    "collapsed": false
   },
   "outputs": [
    {
     "name": "stdout",
     "output_type": "stream",
     "text": [
      "Using matplotlib backend: Qt4Agg\n"
     ]
    },
    {
     "data": {
      "text/plain": [
       "Index(['Unnamed: 0', 'tripduration', 'starttime', 'stoptime',\n",
       "       'start station id', 'start station name', 'end station id',\n",
       "       'end station name', 'bikeid', 'usertype', 'city', 'weather key',\n",
       "       'Pecipitation', 'max temp', 'min temp', 'avg wind'],\n",
       "      dtype='object')"
      ]
     },
     "execution_count": 4,
     "metadata": {},
     "output_type": "execute_result"
    }
   ],
   "source": [
    "# Data Set Up \n",
    "%matplotlib\n",
    "import pandas as pd \n",
    "import numpy as np \n",
    "import datetime as dt \n",
    "nyc_data= pd.read_csv('nyc_merged_data_shortened.csv', parse_dates=['starttime','stoptime'])\n",
    "nyc_data.columns"
   ]
  },
  {
   "cell_type": "code",
   "execution_count": 5,
   "metadata": {
    "collapsed": false
   },
   "outputs": [
    {
     "data": {
      "text/plain": [
       "Index(['tripduration', 'starttime', 'stoptime', 'start station id',\n",
       "       'start station name', 'end station id', 'end station name', 'bikeid',\n",
       "       'usertype', 'city', 'weather key', 'Pecipitation', 'max temp',\n",
       "       'min temp', 'avg wind'],\n",
       "      dtype='object')"
      ]
     },
     "execution_count": 5,
     "metadata": {},
     "output_type": "execute_result"
    }
   ],
   "source": [
    "del nyc_data['Unnamed: 0']\n",
    "nyc_data.columns"
   ]
  },
  {
   "cell_type": "markdown",
   "metadata": {},
   "source": [
    "### Count of Bike Trips by Distinct RiderType"
   ]
  },
  {
   "cell_type": "code",
   "execution_count": 102,
   "metadata": {
    "collapsed": false
   },
   "outputs": [
    {
     "data": {
      "text/html": [
       "<div>\n",
       "<table border=\"1\" class=\"dataframe\">\n",
       "  <thead>\n",
       "    <tr style=\"text-align: right;\">\n",
       "      <th></th>\n",
       "      <th>tripduration</th>\n",
       "      <th>starttime</th>\n",
       "      <th>stoptime</th>\n",
       "      <th>start station id</th>\n",
       "      <th>start station name</th>\n",
       "      <th>end station id</th>\n",
       "      <th>end station name</th>\n",
       "      <th>bikeid</th>\n",
       "      <th>usertype</th>\n",
       "      <th>city</th>\n",
       "      <th>weather key</th>\n",
       "      <th>Pecipitation</th>\n",
       "      <th>max temp</th>\n",
       "      <th>min temp</th>\n",
       "      <th>avg wind</th>\n",
       "    </tr>\n",
       "  </thead>\n",
       "  <tbody>\n",
       "  </tbody>\n",
       "</table>\n",
       "</div>"
      ],
      "text/plain": [
       "Empty DataFrame\n",
       "Columns: [tripduration, starttime, stoptime, start station id, start station name, end station id, end station name, bikeid, usertype, city, weather key, Pecipitation, max temp, min temp, avg wind]\n",
       "Index: []"
      ]
     },
     "execution_count": 102,
     "metadata": {},
     "output_type": "execute_result"
    }
   ],
   "source": [
    "# No missing Data NYC \n",
    "\n",
    "nyc_missing= nyc_data[(nyc_data['usertype']!= 'Customer' )& (nyc_data['usertype']!='Subscriber')]\n",
    "nyc_missing"
   ]
  },
  {
   "cell_type": "code",
   "execution_count": 9,
   "metadata": {
    "collapsed": false
   },
   "outputs": [
    {
     "data": {
      "text/html": [
       "<div>\n",
       "<table border=\"1\" class=\"dataframe\">\n",
       "  <thead>\n",
       "    <tr style=\"text-align: right;\">\n",
       "      <th></th>\n",
       "      <th>tripduration</th>\n",
       "      <th>starttime</th>\n",
       "      <th>start station name</th>\n",
       "      <th>start station id</th>\n",
       "      <th>stoptime</th>\n",
       "      <th>end station name</th>\n",
       "      <th>end station id</th>\n",
       "      <th>bikeid</th>\n",
       "      <th>usertype</th>\n",
       "      <th>city</th>\n",
       "      <th>weather key</th>\n",
       "      <th>max temp</th>\n",
       "      <th>min temp</th>\n",
       "      <th>avg wind</th>\n",
       "      <th>Pecipitation</th>\n",
       "    </tr>\n",
       "  </thead>\n",
       "  <tbody>\n",
       "  </tbody>\n",
       "</table>\n",
       "</div>"
      ],
      "text/plain": [
       "Empty DataFrame\n",
       "Columns: [tripduration, starttime, start station name, start station id, stoptime, end station name, end station id, bikeid, usertype, city, weather key, max temp, min temp, avg wind, Pecipitation]\n",
       "Index: []"
      ]
     },
     "execution_count": 9,
     "metadata": {},
     "output_type": "execute_result"
    }
   ],
   "source": [
    "# No missing Data \n",
    "\n",
    "sf_missing= sf_data[(sf_data['usertype']!= 'Customer' )& (sf_data['usertype']!='Subscriber')]\n",
    "sf_missing"
   ]
  },
  {
   "cell_type": "code",
   "execution_count": 38,
   "metadata": {
    "collapsed": false
   },
   "outputs": [],
   "source": [
    "sf_rider= sf_data.groupby(['usertype'], as_index= False)['tripduration','starttime'].count()\n",
    "\n",
    "nyc_rider = nyc_data.groupby(['usertype'], as_index= False)['tripduration', 'starttime'].count()\n",
    "\n",
    "#to have this as a dataframe and not a series \n",
    "del nyc_rider['starttime']\n",
    "del sf_rider['starttime']"
   ]
  },
  {
   "cell_type": "code",
   "execution_count": 39,
   "metadata": {
    "collapsed": false
   },
   "outputs": [],
   "source": [
    "\n",
    "nyc_rider.columns= ['RiderType','Count']\n",
    "nyc_rider.set_index(nyc_rider['RiderType'], inplace=True)\n",
    "nyc_rider.index.names= [None]\n",
    "del nyc_rider['RiderType']\n"
   ]
  },
  {
   "cell_type": "code",
   "execution_count": 30,
   "metadata": {
    "collapsed": false
   },
   "outputs": [
    {
     "data": {
      "text/html": [
       "<div>\n",
       "<table border=\"1\" class=\"dataframe\">\n",
       "  <thead>\n",
       "    <tr style=\"text-align: right;\">\n",
       "      <th></th>\n",
       "      <th>Count</th>\n",
       "      <th>percent</th>\n",
       "    </tr>\n",
       "  </thead>\n",
       "  <tbody>\n",
       "    <tr>\n",
       "      <th>Customer</th>\n",
       "      <td>2246675</td>\n",
       "      <td>12.0</td>\n",
       "    </tr>\n",
       "    <tr>\n",
       "      <th>Subscriber</th>\n",
       "      <td>16516349</td>\n",
       "      <td>88.0</td>\n",
       "    </tr>\n",
       "  </tbody>\n",
       "</table>\n",
       "</div>"
      ],
      "text/plain": [
       "               Count  percent\n",
       "Customer     2246675     12.0\n",
       "Subscriber  16516349     88.0"
      ]
     },
     "execution_count": 30,
     "metadata": {},
     "output_type": "execute_result"
    }
   ],
   "source": [
    "b= nyc_rider['Count'].sum()\n",
    "nyc_rider['percent']= round(nyc_rider['Count']/b * 100, 0)\n",
    "nyc_rider.head()"
   ]
  },
  {
   "cell_type": "code",
   "execution_count": 40,
   "metadata": {
    "collapsed": false
   },
   "outputs": [],
   "source": [
    "\n",
    "sf_rider.columns= ['RiderType','Count']\n",
    "sf_rider.set_index(sf_rider['RiderType'], inplace=True)\n",
    "sf_rider.index.names= [None]\n",
    "sf_rider.columns= ['RiderType','Count']\n",
    "sf_rider.head(5)\n",
    "del sf_rider['RiderType']"
   ]
  },
  {
   "cell_type": "code",
   "execution_count": 41,
   "metadata": {
    "collapsed": false
   },
   "outputs": [
    {
     "data": {
      "text/html": [
       "<div>\n",
       "<table border=\"1\" class=\"dataframe\">\n",
       "  <thead>\n",
       "    <tr style=\"text-align: right;\">\n",
       "      <th></th>\n",
       "      <th>Count</th>\n",
       "      <th>percent</th>\n",
       "    </tr>\n",
       "  </thead>\n",
       "  <tbody>\n",
       "    <tr>\n",
       "      <th>Customer</th>\n",
       "      <td>103213</td>\n",
       "      <td>15.0</td>\n",
       "    </tr>\n",
       "    <tr>\n",
       "      <th>Subscriber</th>\n",
       "      <td>566746</td>\n",
       "      <td>85.0</td>\n",
       "    </tr>\n",
       "  </tbody>\n",
       "</table>\n",
       "</div>"
      ],
      "text/plain": [
       "             Count  percent\n",
       "Customer    103213     15.0\n",
       "Subscriber  566746     85.0"
      ]
     },
     "execution_count": 41,
     "metadata": {},
     "output_type": "execute_result"
    }
   ],
   "source": [
    "a= sf_rider['Count'].sum()\n",
    "sf_rider['percent']= round(sf_rider['Count']/a * 100, 0)\n",
    "sf_rider.head(5)\n"
   ]
  },
  {
   "cell_type": "code",
   "execution_count": 48,
   "metadata": {
    "collapsed": false
   },
   "outputs": [
    {
     "data": {
      "text/plain": [
       "<matplotlib.axes._subplots.AxesSubplot at 0x119c26358>"
      ]
     },
     "execution_count": 48,
     "metadata": {},
     "output_type": "execute_result"
    },
    {
     "data": {
      "image/png": "[encoded data removed]",
      "text/plain": [
       "<matplotlib.figure.Figure at 0x119c1f668>"
      ]
     },
     "metadata": {},
     "output_type": "display_data"
    }
   ],
   "source": [
    "sf_rider.plot.pie (y ='Count',figsize=(6,6), legend= True,\n",
    "                   title='Count of Bike Rides by Rider Type -- San Francisco' )"
   ]
  },
  {
   "cell_type": "code",
   "execution_count": 33,
   "metadata": {
    "collapsed": false
   },
   "outputs": [
    {
     "data": {
      "text/plain": [
       "<matplotlib.axes._subplots.AxesSubplot at 0xf9428f60>"
      ]
     },
     "execution_count": 33,
     "metadata": {},
     "output_type": "execute_result"
    },
    {
     "data": {
      "image/png": "[encoded data removed]",
      "text/plain": [
       "<matplotlib.figure.Figure at 0xf9422940>"
      ]
     },
     "metadata": {},
     "output_type": "display_data"
    }
   ],
   "source": [
    "%matplotlib inline\n",
    "nyc_rider.plot.pie (y = 'Count',figsize=(6,6),legend = False, labels = nyc_rider['percent'],\n",
    "                    title='Count of Bike Rides by Rider Type -- New York' )"
   ]
  },
  {
   "cell_type": "markdown",
   "metadata": {},
   "source": [
    "### Rider Type Count Time Series Comparison "
   ]
  },
  {
   "cell_type": "markdown",
   "metadata": {},
   "source": [
    "### San Fancisco "
   ]
  },
  {
   "cell_type": "code",
   "execution_count": 30,
   "metadata": {
    "collapsed": false
   },
   "outputs": [
    {
     "data": {
      "text/html": [
       "<div>\n",
       "<table border=\"1\" class=\"dataframe\">\n",
       "  <thead>\n",
       "    <tr style=\"text-align: right;\">\n",
       "      <th></th>\n",
       "      <th>date_sort</th>\n",
       "      <th>Date_x</th>\n",
       "      <th>tripduration_x</th>\n",
       "      <th>starttime_x</th>\n",
       "      <th>Date_y</th>\n",
       "      <th>tripduration_y</th>\n",
       "      <th>starttime_y</th>\n",
       "    </tr>\n",
       "  </thead>\n",
       "  <tbody>\n",
       "    <tr>\n",
       "      <th>0</th>\n",
       "      <td>201308</td>\n",
       "      <td>2013Aug</td>\n",
       "      <td>1173</td>\n",
       "      <td>1173</td>\n",
       "      <td>2013Aug</td>\n",
       "      <td>929</td>\n",
       "      <td>929</td>\n",
       "    </tr>\n",
       "    <tr>\n",
       "      <th>1</th>\n",
       "      <td>201309</td>\n",
       "      <td>2013Sep</td>\n",
       "      <td>9476</td>\n",
       "      <td>9476</td>\n",
       "      <td>2013Sep</td>\n",
       "      <td>15767</td>\n",
       "      <td>15767</td>\n",
       "    </tr>\n",
       "    <tr>\n",
       "      <th>2</th>\n",
       "      <td>201310</td>\n",
       "      <td>2013Oct</td>\n",
       "      <td>6126</td>\n",
       "      <td>6126</td>\n",
       "      <td>2013Oct</td>\n",
       "      <td>22979</td>\n",
       "      <td>22979</td>\n",
       "    </tr>\n",
       "    <tr>\n",
       "      <th>3</th>\n",
       "      <td>201311</td>\n",
       "      <td>2013Nov</td>\n",
       "      <td>4489</td>\n",
       "      <td>4489</td>\n",
       "      <td>2013Nov</td>\n",
       "      <td>19730</td>\n",
       "      <td>19730</td>\n",
       "    </tr>\n",
       "    <tr>\n",
       "      <th>4</th>\n",
       "      <td>201312</td>\n",
       "      <td>2013Dec</td>\n",
       "      <td>3235</td>\n",
       "      <td>3235</td>\n",
       "      <td>2013Dec</td>\n",
       "      <td>16659</td>\n",
       "      <td>16659</td>\n",
       "    </tr>\n",
       "  </tbody>\n",
       "</table>\n",
       "</div>"
      ],
      "text/plain": [
       "  date_sort   Date_x  tripduration_x  starttime_x   Date_y  tripduration_y  \\\n",
       "0    201308  2013Aug            1173         1173  2013Aug             929   \n",
       "1    201309  2013Sep            9476         9476  2013Sep           15767   \n",
       "2    201310  2013Oct            6126         6126  2013Oct           22979   \n",
       "3    201311  2013Nov            4489         4489  2013Nov           19730   \n",
       "4    201312  2013Dec            3235         3235  2013Dec           16659   \n",
       "\n",
       "   starttime_y  \n",
       "0          929  \n",
       "1        15767  \n",
       "2        22979  \n",
       "3        19730  \n",
       "4        16659  "
      ]
     },
     "execution_count": 30,
     "metadata": {},
     "output_type": "execute_result"
    }
   ],
   "source": [
    "sf_rider_trend= sf_data.copy()\n",
    "#Create Date Column \n",
    "sf_rider_trend['Date']= sf_rider_trend[\"starttime\"].dt.strftime('%Y%b')\n",
    "sf_rider_trend['date_sort']=sf_rider_trend[\"starttime\"].dt.strftime('%Y%m')\n",
    "\n",
    "# Split by Customer and Subscriber to create Separate Series \n",
    "sf_customer_trend= sf_rider_trend[sf_rider_trend[\"usertype\"]== 'Customer']\n",
    "sf_subscriber_trend = sf_rider_trend[sf_rider_trend['usertype']=='Subscriber']\n",
    "\n",
    "#Group each by Date \n",
    "sf_customer_group = sf_customer_trend.groupby(['date_sort','Date'],as_index=False)['tripduration', 'starttime'].count()\n",
    "sf_subscriber_group= sf_subscriber_trend.groupby(['date_sort','Date'],as_index=False)['tripduration','starttime'].count()\n",
    "\n",
    "#Merge\n",
    "sf_allriders= pd.merge (sf_customer_group,sf_subscriber_group, how = 'left', on ='date_sort')\n",
    "sf_allriders.head()"
   ]
  },
  {
   "cell_type": "code",
   "execution_count": 31,
   "metadata": {
    "collapsed": true
   },
   "outputs": [],
   "source": [
    "del sf_allriders['starttime_x']\n",
    "del sf_allriders['starttime_y']\n",
    "del sf_allriders['Date_y']\n",
    "sf_allriders.columns = ['Date','DateName','Customer','Subscriber']\n",
    "sf_allriders.set_index('Date', inplace=True)\n",
    "sf_allriders.index.names=[None]\n"
   ]
  },
  {
   "cell_type": "code",
   "execution_count": 32,
   "metadata": {
    "collapsed": false
   },
   "outputs": [
    {
     "data": {
      "text/html": [
       "<div>\n",
       "<table border=\"1\" class=\"dataframe\">\n",
       "  <thead>\n",
       "    <tr style=\"text-align: right;\">\n",
       "      <th></th>\n",
       "      <th>DateName</th>\n",
       "      <th>Customer</th>\n",
       "      <th>Subscriber</th>\n",
       "      <th>total</th>\n",
       "    </tr>\n",
       "  </thead>\n",
       "  <tbody>\n",
       "    <tr>\n",
       "      <th>201308</th>\n",
       "      <td>2013Aug</td>\n",
       "      <td>1173</td>\n",
       "      <td>929</td>\n",
       "      <td>2102</td>\n",
       "    </tr>\n",
       "    <tr>\n",
       "      <th>201309</th>\n",
       "      <td>2013Sep</td>\n",
       "      <td>9476</td>\n",
       "      <td>15767</td>\n",
       "      <td>25243</td>\n",
       "    </tr>\n",
       "    <tr>\n",
       "      <th>201310</th>\n",
       "      <td>2013Oct</td>\n",
       "      <td>6126</td>\n",
       "      <td>22979</td>\n",
       "      <td>29105</td>\n",
       "    </tr>\n",
       "    <tr>\n",
       "      <th>201311</th>\n",
       "      <td>2013Nov</td>\n",
       "      <td>4489</td>\n",
       "      <td>19730</td>\n",
       "      <td>24219</td>\n",
       "    </tr>\n",
       "    <tr>\n",
       "      <th>201312</th>\n",
       "      <td>2013Dec</td>\n",
       "      <td>3235</td>\n",
       "      <td>16659</td>\n",
       "      <td>19894</td>\n",
       "    </tr>\n",
       "  </tbody>\n",
       "</table>\n",
       "</div>"
      ],
      "text/plain": [
       "       DateName  Customer  Subscriber  total\n",
       "201308  2013Aug      1173         929   2102\n",
       "201309  2013Sep      9476       15767  25243\n",
       "201310  2013Oct      6126       22979  29105\n",
       "201311  2013Nov      4489       19730  24219\n",
       "201312  2013Dec      3235       16659  19894"
      ]
     },
     "execution_count": 32,
     "metadata": {},
     "output_type": "execute_result"
    }
   ],
   "source": [
    "sf_allriders['total']=sf_allriders['Customer']+ sf_allriders['Subscriber']\n",
    "sf_allriders.head()"
   ]
  },
  {
   "cell_type": "code",
   "execution_count": 33,
   "metadata": {
    "collapsed": false
   },
   "outputs": [
    {
     "data": {
      "text/plain": [
       "<matplotlib.axes._subplots.AxesSubplot at 0x11c4eaba8>"
      ]
     },
     "execution_count": 33,
     "metadata": {},
     "output_type": "execute_result"
    },
    {
     "data": {
      "image/png": "[encoded data removed]",
      "text/plain": [
       "<matplotlib.figure.Figure at 0xfbb87518>"
      ]
     },
     "metadata": {},
     "output_type": "display_data"
    }
   ],
   "source": [
    "\n",
    "sf_allriders.plot.line(title= 'Time Series of Trip Count by Rider Type -- San Francisco')"
   ]
  },
  {
   "cell_type": "code",
   "execution_count": 28,
   "metadata": {
    "collapsed": false
   },
   "outputs": [
    {
     "data": {
      "text/html": [
       "<div>\n",
       "<table border=\"1\" class=\"dataframe\">\n",
       "  <thead>\n",
       "    <tr style=\"text-align: right;\">\n",
       "      <th></th>\n",
       "      <th>DateName</th>\n",
       "      <th>Customer</th>\n",
       "      <th>Subscriber</th>\n",
       "      <th>total</th>\n",
       "      <th>cust_perc</th>\n",
       "      <th>subs_perc</th>\n",
       "    </tr>\n",
       "  </thead>\n",
       "  <tbody>\n",
       "    <tr>\n",
       "      <th>201308</th>\n",
       "      <td>2013Aug</td>\n",
       "      <td>1173</td>\n",
       "      <td>929</td>\n",
       "      <td>2102</td>\n",
       "      <td>56.0</td>\n",
       "      <td>44.0</td>\n",
       "    </tr>\n",
       "    <tr>\n",
       "      <th>201309</th>\n",
       "      <td>2013Sep</td>\n",
       "      <td>9476</td>\n",
       "      <td>15767</td>\n",
       "      <td>25243</td>\n",
       "      <td>38.0</td>\n",
       "      <td>62.0</td>\n",
       "    </tr>\n",
       "    <tr>\n",
       "      <th>201310</th>\n",
       "      <td>2013Oct</td>\n",
       "      <td>6126</td>\n",
       "      <td>22979</td>\n",
       "      <td>29105</td>\n",
       "      <td>21.0</td>\n",
       "      <td>79.0</td>\n",
       "    </tr>\n",
       "    <tr>\n",
       "      <th>201311</th>\n",
       "      <td>2013Nov</td>\n",
       "      <td>4489</td>\n",
       "      <td>19730</td>\n",
       "      <td>24219</td>\n",
       "      <td>19.0</td>\n",
       "      <td>81.0</td>\n",
       "    </tr>\n",
       "    <tr>\n",
       "      <th>201312</th>\n",
       "      <td>2013Dec</td>\n",
       "      <td>3235</td>\n",
       "      <td>16659</td>\n",
       "      <td>19894</td>\n",
       "      <td>16.0</td>\n",
       "      <td>84.0</td>\n",
       "    </tr>\n",
       "  </tbody>\n",
       "</table>\n",
       "</div>"
      ],
      "text/plain": [
       "       DateName  Customer  Subscriber  total  cust_perc  subs_perc\n",
       "201308  2013Aug      1173         929   2102       56.0       44.0\n",
       "201309  2013Sep      9476       15767  25243       38.0       62.0\n",
       "201310  2013Oct      6126       22979  29105       21.0       79.0\n",
       "201311  2013Nov      4489       19730  24219       19.0       81.0\n",
       "201312  2013Dec      3235       16659  19894       16.0       84.0"
      ]
     },
     "execution_count": 28,
     "metadata": {},
     "output_type": "execute_result"
    }
   ],
   "source": [
    "sf_allriders['cust_perc']= round(sf_allriders['Customer']*100/sf_allriders['total'], 0)\n",
    "sf_allriders['subs_perc']= round(sf_allriders['Subscriber']*100/sf_allriders['total'], 0)\n",
    "sf_allriders.head()"
   ]
  },
  {
   "cell_type": "code",
   "execution_count": 19,
   "metadata": {
    "collapsed": false
   },
   "outputs": [],
   "source": [
    "del sf_allriders['Customer']\n",
    "del sf_allriders['total']\n",
    "del sf_allriders['Subscriber']"
   ]
  },
  {
   "cell_type": "code",
   "execution_count": 22,
   "metadata": {
    "collapsed": false
   },
   "outputs": [
    {
     "data": {
      "text/plain": [
       "<matplotlib.axes._subplots.AxesSubplot at 0xda14ad68>"
      ]
     },
     "execution_count": 22,
     "metadata": {},
     "output_type": "execute_result"
    },
    {
     "data": {
      "image/png": "[encoded data removed]",
      "text/plain": [
       "<matplotlib.figure.Figure at 0xda129400>"
      ]
     },
     "metadata": {},
     "output_type": "display_data"
    }
   ],
   "source": [
    "sf_allriders.plot.bar( stacked= True,title= 'TimeSeries of Bike Shares by Rider Type -- San Francisco')"
   ]
  },
  {
   "cell_type": "code",
   "execution_count": 54,
   "metadata": {
    "collapsed": false
   },
   "outputs": [
    {
     "data": {
      "text/plain": [
       "<matplotlib.axes._subplots.AxesSubplot at 0xde0ef048>"
      ]
     },
     "execution_count": 54,
     "metadata": {},
     "output_type": "execute_result"
    },
    {
     "data": {
      "image/png": "[encoded data removed]",
      "text/plain": [
       "<matplotlib.figure.Figure at 0xde0e8160>"
      ]
     },
     "metadata": {},
     "output_type": "display_data"
    }
   ],
   "source": [
    "sf_allriders.plot.line(title= 'TimeSeries of Bike Shares by Rider Type -- San Francisco')"
   ]
  },
  {
   "cell_type": "code",
   "execution_count": 55,
   "metadata": {
    "collapsed": false
   },
   "outputs": [
    {
     "data": {
      "text/plain": [
       "<matplotlib.axes._subplots.AxesSubplot at 0xd96f35c0>"
      ]
     },
     "execution_count": 55,
     "metadata": {},
     "output_type": "execute_result"
    },
    {
     "data": {
      "image/png": "[encoded data removed]",
      "text/plain": [
       "<matplotlib.figure.Figure at 0xd86afeb8>"
      ]
     },
     "metadata": {},
     "output_type": "display_data"
    }
   ],
   "source": [
    "sf_allriders.plot.bar(title= 'TimeSeries of Bike Shares by Rider Type -- San Francisco')"
   ]
  },
  {
   "cell_type": "markdown",
   "metadata": {},
   "source": [
    "### New York"
   ]
  },
  {
   "cell_type": "code",
   "execution_count": 34,
   "metadata": {
    "collapsed": true
   },
   "outputs": [],
   "source": [
    "nyc_rider_trend= nyc_data.copy()"
   ]
  },
  {
   "cell_type": "code",
   "execution_count": 35,
   "metadata": {
    "collapsed": false
   },
   "outputs": [
    {
     "data": {
      "text/html": [
       "<div>\n",
       "<table border=\"1\" class=\"dataframe\">\n",
       "  <thead>\n",
       "    <tr style=\"text-align: right;\">\n",
       "      <th></th>\n",
       "      <th>date_sort</th>\n",
       "      <th>Date_x</th>\n",
       "      <th>tripduration_x</th>\n",
       "      <th>starttime_x</th>\n",
       "      <th>Date_y</th>\n",
       "      <th>tripduration_y</th>\n",
       "      <th>starttime_y</th>\n",
       "    </tr>\n",
       "  </thead>\n",
       "  <tbody>\n",
       "    <tr>\n",
       "      <th>0</th>\n",
       "      <td>201307</td>\n",
       "      <td>2013Jul</td>\n",
       "      <td>174915</td>\n",
       "      <td>174915</td>\n",
       "      <td>2013Jul</td>\n",
       "      <td>668501</td>\n",
       "      <td>668501</td>\n",
       "    </tr>\n",
       "    <tr>\n",
       "      <th>1</th>\n",
       "      <td>201308</td>\n",
       "      <td>2013Aug</td>\n",
       "      <td>186056</td>\n",
       "      <td>186056</td>\n",
       "      <td>2013Aug</td>\n",
       "      <td>815902</td>\n",
       "      <td>815902</td>\n",
       "    </tr>\n",
       "    <tr>\n",
       "      <th>2</th>\n",
       "      <td>201309</td>\n",
       "      <td>2013Sep</td>\n",
       "      <td>145169</td>\n",
       "      <td>145169</td>\n",
       "      <td>2013Sep</td>\n",
       "      <td>889190</td>\n",
       "      <td>889190</td>\n",
       "    </tr>\n",
       "    <tr>\n",
       "      <th>3</th>\n",
       "      <td>201310</td>\n",
       "      <td>2013Oct</td>\n",
       "      <td>97446</td>\n",
       "      <td>97446</td>\n",
       "      <td>2013Oct</td>\n",
       "      <td>940266</td>\n",
       "      <td>940266</td>\n",
       "    </tr>\n",
       "    <tr>\n",
       "      <th>4</th>\n",
       "      <td>201311</td>\n",
       "      <td>2013Nov</td>\n",
       "      <td>43973</td>\n",
       "      <td>43973</td>\n",
       "      <td>2013Nov</td>\n",
       "      <td>631801</td>\n",
       "      <td>631801</td>\n",
       "    </tr>\n",
       "  </tbody>\n",
       "</table>\n",
       "</div>"
      ],
      "text/plain": [
       "  date_sort   Date_x  tripduration_x  starttime_x   Date_y  tripduration_y  \\\n",
       "0    201307  2013Jul          174915       174915  2013Jul          668501   \n",
       "1    201308  2013Aug          186056       186056  2013Aug          815902   \n",
       "2    201309  2013Sep          145169       145169  2013Sep          889190   \n",
       "3    201310  2013Oct           97446        97446  2013Oct          940266   \n",
       "4    201311  2013Nov           43973        43973  2013Nov          631801   \n",
       "\n",
       "   starttime_y  \n",
       "0       668501  \n",
       "1       815902  \n",
       "2       889190  \n",
       "3       940266  \n",
       "4       631801  "
      ]
     },
     "execution_count": 35,
     "metadata": {},
     "output_type": "execute_result"
    }
   ],
   "source": [
    "#Note: Query takes some time to Complete: \n",
    "\n",
    "nyc_rider_trend= nyc_data.copy()\n",
    "#Create Date Column \n",
    "nyc_rider_trend['Date']= nyc_rider_trend[\"starttime\"].dt.strftime('%Y%b')\n",
    "nyc_rider_trend['date_sort']=nyc_rider_trend[\"starttime\"].dt.strftime('%Y%m')\n",
    "\n",
    "# Split by Customer and Subscriber to create Separate Series \n",
    "nyc_customer_trend= nyc_rider_trend[nyc_rider_trend[\"usertype\"]== 'Customer']\n",
    "nyc_subscriber_trend = nyc_rider_trend[nyc_rider_trend['usertype']=='Subscriber']\n",
    "\n",
    "#Group each by Date \n",
    "nyc_customer_group = nyc_customer_trend.groupby(['date_sort','Date'],as_index=False)['tripduration', 'starttime'].count()\n",
    "nyc_subscriber_group= nyc_subscriber_trend.groupby(['date_sort','Date'],as_index=False)['tripduration','starttime'].count()\n",
    "\n",
    "#Merge\n",
    "nyc_allriders= pd.merge (nyc_customer_group,nyc_subscriber_group, how = 'left', on ='date_sort')\n",
    "nyc_allriders.head()\n"
   ]
  },
  {
   "cell_type": "code",
   "execution_count": 36,
   "metadata": {
    "collapsed": false
   },
   "outputs": [],
   "source": [
    "del nyc_allriders['starttime_x']\n",
    "del nyc_allriders['starttime_y']\n",
    "del nyc_allriders['Date_y']\n",
    "nyc_allriders.columns = ['Date','DateName','Customer','Subscriber']\n",
    "nyc_allriders.set_index('Date', inplace=True)\n",
    "nyc_allriders.index.names=[None]"
   ]
  },
  {
   "cell_type": "code",
   "execution_count": 37,
   "metadata": {
    "collapsed": false
   },
   "outputs": [
    {
     "data": {
      "text/html": [
       "<div>\n",
       "<table border=\"1\" class=\"dataframe\">\n",
       "  <thead>\n",
       "    <tr style=\"text-align: right;\">\n",
       "      <th></th>\n",
       "      <th>DateName</th>\n",
       "      <th>Customer</th>\n",
       "      <th>Subscriber</th>\n",
       "      <th>total</th>\n",
       "    </tr>\n",
       "  </thead>\n",
       "  <tbody>\n",
       "    <tr>\n",
       "      <th>201307</th>\n",
       "      <td>2013Jul</td>\n",
       "      <td>174915</td>\n",
       "      <td>668501</td>\n",
       "      <td>843416</td>\n",
       "    </tr>\n",
       "    <tr>\n",
       "      <th>201308</th>\n",
       "      <td>2013Aug</td>\n",
       "      <td>186056</td>\n",
       "      <td>815902</td>\n",
       "      <td>1001958</td>\n",
       "    </tr>\n",
       "    <tr>\n",
       "      <th>201309</th>\n",
       "      <td>2013Sep</td>\n",
       "      <td>145169</td>\n",
       "      <td>889190</td>\n",
       "      <td>1034359</td>\n",
       "    </tr>\n",
       "    <tr>\n",
       "      <th>201310</th>\n",
       "      <td>2013Oct</td>\n",
       "      <td>97446</td>\n",
       "      <td>940266</td>\n",
       "      <td>1037712</td>\n",
       "    </tr>\n",
       "    <tr>\n",
       "      <th>201311</th>\n",
       "      <td>2013Nov</td>\n",
       "      <td>43973</td>\n",
       "      <td>631801</td>\n",
       "      <td>675774</td>\n",
       "    </tr>\n",
       "  </tbody>\n",
       "</table>\n",
       "</div>"
      ],
      "text/plain": [
       "       DateName  Customer  Subscriber    total\n",
       "201307  2013Jul    174915      668501   843416\n",
       "201308  2013Aug    186056      815902  1001958\n",
       "201309  2013Sep    145169      889190  1034359\n",
       "201310  2013Oct     97446      940266  1037712\n",
       "201311  2013Nov     43973      631801   675774"
      ]
     },
     "execution_count": 37,
     "metadata": {},
     "output_type": "execute_result"
    }
   ],
   "source": [
    "nyc_allriders['total']=nyc_allriders['Customer']+ nyc_allriders['Subscriber']\n",
    "nyc_allriders.head()"
   ]
  },
  {
   "cell_type": "code",
   "execution_count": 38,
   "metadata": {
    "collapsed": false
   },
   "outputs": [
    {
     "data": {
      "text/plain": [
       "<matplotlib.axes._subplots.AxesSubplot at 0xfbb99f28>"
      ]
     },
     "execution_count": 38,
     "metadata": {},
     "output_type": "execute_result"
    },
    {
     "data": {
      "image/png": "[encoded data removed]",
      "text/plain": [
       "<matplotlib.figure.Figure at 0xfacdcc0>"
      ]
     },
     "metadata": {},
     "output_type": "display_data"
    }
   ],
   "source": [
    "nyc_allriders.plot.line( title= 'TimeSeries of Bike Shares by Rider Type -- New York')"
   ]
  },
  {
   "cell_type": "code",
   "execution_count": 39,
   "metadata": {
    "collapsed": false
   },
   "outputs": [
    {
     "data": {
      "text/html": [
       "<div>\n",
       "<table border=\"1\" class=\"dataframe\">\n",
       "  <thead>\n",
       "    <tr style=\"text-align: right;\">\n",
       "      <th></th>\n",
       "      <th>DateName</th>\n",
       "      <th>Customer</th>\n",
       "      <th>Subscriber</th>\n",
       "      <th>total</th>\n",
       "      <th>cust_perc</th>\n",
       "      <th>subs_perc</th>\n",
       "    </tr>\n",
       "  </thead>\n",
       "  <tbody>\n",
       "    <tr>\n",
       "      <th>201307</th>\n",
       "      <td>2013Jul</td>\n",
       "      <td>174915</td>\n",
       "      <td>668501</td>\n",
       "      <td>843416</td>\n",
       "      <td>21.0</td>\n",
       "      <td>79.0</td>\n",
       "    </tr>\n",
       "    <tr>\n",
       "      <th>201308</th>\n",
       "      <td>2013Aug</td>\n",
       "      <td>186056</td>\n",
       "      <td>815902</td>\n",
       "      <td>1001958</td>\n",
       "      <td>19.0</td>\n",
       "      <td>81.0</td>\n",
       "    </tr>\n",
       "    <tr>\n",
       "      <th>201309</th>\n",
       "      <td>2013Sep</td>\n",
       "      <td>145169</td>\n",
       "      <td>889190</td>\n",
       "      <td>1034359</td>\n",
       "      <td>14.0</td>\n",
       "      <td>86.0</td>\n",
       "    </tr>\n",
       "    <tr>\n",
       "      <th>201310</th>\n",
       "      <td>2013Oct</td>\n",
       "      <td>97446</td>\n",
       "      <td>940266</td>\n",
       "      <td>1037712</td>\n",
       "      <td>9.0</td>\n",
       "      <td>91.0</td>\n",
       "    </tr>\n",
       "    <tr>\n",
       "      <th>201311</th>\n",
       "      <td>2013Nov</td>\n",
       "      <td>43973</td>\n",
       "      <td>631801</td>\n",
       "      <td>675774</td>\n",
       "      <td>7.0</td>\n",
       "      <td>93.0</td>\n",
       "    </tr>\n",
       "  </tbody>\n",
       "</table>\n",
       "</div>"
      ],
      "text/plain": [
       "       DateName  Customer  Subscriber    total  cust_perc  subs_perc\n",
       "201307  2013Jul    174915      668501   843416       21.0       79.0\n",
       "201308  2013Aug    186056      815902  1001958       19.0       81.0\n",
       "201309  2013Sep    145169      889190  1034359       14.0       86.0\n",
       "201310  2013Oct     97446      940266  1037712        9.0       91.0\n",
       "201311  2013Nov     43973      631801   675774        7.0       93.0"
      ]
     },
     "execution_count": 39,
     "metadata": {},
     "output_type": "execute_result"
    }
   ],
   "source": [
    "nyc_allriders['cust_perc']= round(nyc_allriders['Customer']*100/nyc_allriders['total'], 0)\n",
    "nyc_allriders['subs_perc']= round(nyc_allriders['Subscriber']*100/nyc_allriders['total'], 0)\n",
    "nyc_allriders.head()"
   ]
  },
  {
   "cell_type": "code",
   "execution_count": 43,
   "metadata": {
    "collapsed": true
   },
   "outputs": [],
   "source": [
    "del nyc_allriders['Customer']\n",
    "del nyc_allriders['total']\n",
    "del nyc_allriders['Subscriber']\n"
   ]
  },
  {
   "cell_type": "code",
   "execution_count": 44,
   "metadata": {
    "collapsed": false
   },
   "outputs": [
    {
     "data": {
      "text/plain": [
       "<matplotlib.axes._subplots.AxesSubplot at 0xf4f01c18>"
      ]
     },
     "execution_count": 44,
     "metadata": {},
     "output_type": "execute_result"
    },
    {
     "data": {
      "image/png": "[encoded data removed]",
      "text/plain": [
       "<matplotlib.figure.Figure at 0x19acb5ac8>"
      ]
     },
     "metadata": {},
     "output_type": "display_data"
    }
   ],
   "source": [
    "nyc_allriders.plot.bar( stacked= True,title= 'TimeSeries of Bike Shares by Rider Type -- New York')"
   ]
  },
  {
   "cell_type": "code",
   "execution_count": null,
   "metadata": {
    "collapsed": true
   },
   "outputs": [],
   "source": []
  }
 ],
 "metadata": {
  "kernelspec": {
   "display_name": "Python 3",
   "language": "python",
   "name": "python3"
  },
  "language_info": {
   "codemirror_mode": {
    "name": "ipython",
    "version": 3
   },
   "file_extension": ".py",
   "mimetype": "text/x-python",
   "name": "python",
   "nbconvert_exporter": "python",
   "pygments_lexer": "ipython3",
   "version": "3.5.1"
  }
 },
 "nbformat": 4,
 "nbformat_minor": 0
}
