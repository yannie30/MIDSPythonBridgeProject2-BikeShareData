{
 "cells": [
  {
   "cell_type": "code",
   "execution_count": 1,
   "metadata": {
    "collapsed": false
   },
   "outputs": [],
   "source": [
    "%matplotlib inline\n",
    "import numpy as np\n",
    "import pandas as pd\n",
    "import matplotlib.pyplot as plt"
   ]
  },
  {
   "cell_type": "code",
   "execution_count": 2,
   "metadata": {
    "collapsed": false
   },
   "outputs": [
    {
     "name": "stderr",
     "output_type": "stream",
     "text": [
      "/Users/yannielee/anaconda/lib/python3.5/site-packages/IPython/core/interactiveshell.py:2723: DtypeWarning: Columns (15) have mixed types. Specify dtype option on import or set low_memory=False.\n",
      "  interactivity=interactivity, compiler=compiler, result=result)\n"
     ]
    },
    {
     "name": "stdout",
     "output_type": "stream",
     "text": [
      "(669959, 15)\n"
     ]
    },
    {
     "data": {
      "text/html": [
       "<div>\n",
       "<table border=\"1\" class=\"dataframe\">\n",
       "  <thead>\n",
       "    <tr style=\"text-align: right;\">\n",
       "      <th></th>\n",
       "      <th>tripduration</th>\n",
       "      <th>starttime</th>\n",
       "      <th>start station name</th>\n",
       "      <th>start station id</th>\n",
       "      <th>stoptime</th>\n",
       "      <th>end station name</th>\n",
       "      <th>end station id</th>\n",
       "      <th>bikeid</th>\n",
       "      <th>usertype</th>\n",
       "      <th>city</th>\n",
       "      <th>weather key</th>\n",
       "      <th>max temp</th>\n",
       "      <th>min temp</th>\n",
       "      <th>avg wind</th>\n",
       "      <th>Pecipitation</th>\n",
       "      <th>Year Month</th>\n",
       "    </tr>\n",
       "  </thead>\n",
       "  <tbody>\n",
       "    <tr>\n",
       "      <th>0</th>\n",
       "      <td>63</td>\n",
       "      <td>2013-08-29 14:13:00</td>\n",
       "      <td>South Van Ness at Market</td>\n",
       "      <td>66</td>\n",
       "      <td>2013-08-29 14:14:00</td>\n",
       "      <td>South Van Ness at Market</td>\n",
       "      <td>66</td>\n",
       "      <td>520</td>\n",
       "      <td>Subscriber</td>\n",
       "      <td>San Francisco</td>\n",
       "      <td>2013082994107</td>\n",
       "      <td>74.0</td>\n",
       "      <td>61.0</td>\n",
       "      <td>11.0</td>\n",
       "      <td>0</td>\n",
       "      <td>201308</td>\n",
       "    </tr>\n",
       "    <tr>\n",
       "      <th>1</th>\n",
       "      <td>70</td>\n",
       "      <td>2013-08-29 14:42:00</td>\n",
       "      <td>San Jose City Hall</td>\n",
       "      <td>10</td>\n",
       "      <td>2013-08-29 14:43:00</td>\n",
       "      <td>San Jose City Hall</td>\n",
       "      <td>10</td>\n",
       "      <td>661</td>\n",
       "      <td>Subscriber</td>\n",
       "      <td>San Jose</td>\n",
       "      <td>2013082995113</td>\n",
       "      <td>81.0</td>\n",
       "      <td>63.0</td>\n",
       "      <td>7.0</td>\n",
       "      <td>0</td>\n",
       "      <td>201308</td>\n",
       "    </tr>\n",
       "    <tr>\n",
       "      <th>2</th>\n",
       "      <td>71</td>\n",
       "      <td>2013-08-29 10:16:00</td>\n",
       "      <td>Mountain View City Hall</td>\n",
       "      <td>27</td>\n",
       "      <td>2013-08-29 10:17:00</td>\n",
       "      <td>Mountain View City Hall</td>\n",
       "      <td>27</td>\n",
       "      <td>48</td>\n",
       "      <td>Subscriber</td>\n",
       "      <td>Mountain View</td>\n",
       "      <td>2013082994041</td>\n",
       "      <td>80.0</td>\n",
       "      <td>64.0</td>\n",
       "      <td>5.0</td>\n",
       "      <td>0</td>\n",
       "      <td>201308</td>\n",
       "    </tr>\n",
       "    <tr>\n",
       "      <th>3</th>\n",
       "      <td>77</td>\n",
       "      <td>2013-08-29 11:29:00</td>\n",
       "      <td>San Jose City Hall</td>\n",
       "      <td>10</td>\n",
       "      <td>2013-08-29 11:30:00</td>\n",
       "      <td>San Jose City Hall</td>\n",
       "      <td>10</td>\n",
       "      <td>26</td>\n",
       "      <td>Subscriber</td>\n",
       "      <td>San Jose</td>\n",
       "      <td>2013082995113</td>\n",
       "      <td>81.0</td>\n",
       "      <td>63.0</td>\n",
       "      <td>7.0</td>\n",
       "      <td>0</td>\n",
       "      <td>201308</td>\n",
       "    </tr>\n",
       "    <tr>\n",
       "      <th>4</th>\n",
       "      <td>83</td>\n",
       "      <td>2013-08-29 12:02:00</td>\n",
       "      <td>South Van Ness at Market</td>\n",
       "      <td>66</td>\n",
       "      <td>2013-08-29 12:04:00</td>\n",
       "      <td>Market at 10th</td>\n",
       "      <td>67</td>\n",
       "      <td>319</td>\n",
       "      <td>Subscriber</td>\n",
       "      <td>San Francisco</td>\n",
       "      <td>2013082994107</td>\n",
       "      <td>74.0</td>\n",
       "      <td>61.0</td>\n",
       "      <td>11.0</td>\n",
       "      <td>0</td>\n",
       "      <td>201308</td>\n",
       "    </tr>\n",
       "  </tbody>\n",
       "</table>\n",
       "</div>"
      ],
      "text/plain": [
       "   tripduration           starttime        start station name  \\\n",
       "0            63 2013-08-29 14:13:00  South Van Ness at Market   \n",
       "1            70 2013-08-29 14:42:00        San Jose City Hall   \n",
       "2            71 2013-08-29 10:16:00   Mountain View City Hall   \n",
       "3            77 2013-08-29 11:29:00        San Jose City Hall   \n",
       "4            83 2013-08-29 12:02:00  South Van Ness at Market   \n",
       "\n",
       "   start station id            stoptime          end station name  \\\n",
       "0                66 2013-08-29 14:14:00  South Van Ness at Market   \n",
       "1                10 2013-08-29 14:43:00        San Jose City Hall   \n",
       "2                27 2013-08-29 10:17:00   Mountain View City Hall   \n",
       "3                10 2013-08-29 11:30:00        San Jose City Hall   \n",
       "4                66 2013-08-29 12:04:00            Market at 10th   \n",
       "\n",
       "   end station id  bikeid    usertype           city    weather key  max temp  \\\n",
       "0              66     520  Subscriber  San Francisco  2013082994107      74.0   \n",
       "1              10     661  Subscriber       San Jose  2013082995113      81.0   \n",
       "2              27      48  Subscriber  Mountain View  2013082994041      80.0   \n",
       "3              10      26  Subscriber       San Jose  2013082995113      81.0   \n",
       "4              67     319  Subscriber  San Francisco  2013082994107      74.0   \n",
       "\n",
       "   min temp  avg wind Pecipitation Year Month  \n",
       "0      61.0      11.0            0     201308  \n",
       "1      63.0       7.0            0     201308  \n",
       "2      64.0       5.0            0     201308  \n",
       "3      63.0       7.0            0     201308  \n",
       "4      61.0      11.0            0     201308  "
      ]
     },
     "execution_count": 2,
     "metadata": {},
     "output_type": "execute_result"
    }
   ],
   "source": [
    "#Impoting SF Data, create monthly graphs\n",
    "df = pd.read_csv(\"sf_merged_data.csv\", parse_dates = [\"starttime\", \"stoptime\"])\n",
    "del df[\"Unnamed: 0\"]\n",
    "\n",
    "print(df.shape)\n",
    "df[\"Year Month\"] = df['starttime'].dt.strftime('%Y%m')\n",
    "df.head()\n",
    "\n"
   ]
  },
  {
   "cell_type": "code",
   "execution_count": 3,
   "metadata": {
    "collapsed": false
   },
   "outputs": [
    {
     "data": {
      "image/png": "[encoded data removed]",
      "text/plain": [
       "<matplotlib.figure.Figure at 0x113d85dd8>"
      ]
     },
     "metadata": {},
     "output_type": "display_data"
    }
   ],
   "source": [
    "df.groupby(['Year Month']).agg({'Year Month': np.count_nonzero}).plot()\n",
    "plt.plot(legend=None)\n",
    "plt.xlabel(\"Number of Monthly Rides\")\n",
    "plt.ylabel(\"Date\")\n",
    "plt.title(\"SF Monthly Rides from August 2013 to August 2015\")\n",
    "plt.savefig('SF_Rides Per Month Summary.png')\n"
   ]
  },
  {
   "cell_type": "code",
   "execution_count": 4,
   "metadata": {
    "collapsed": false
   },
   "outputs": [
    {
     "name": "stdout",
     "output_type": "stream",
     "text": [
      "start 1\n",
      "end 1\n",
      "(18763024, 15)\n",
      "start 2\n",
      "start 3\n"
     ]
    },
    {
     "data": {
      "text/html": [
       "<div>\n",
       "<table border=\"1\" class=\"dataframe\">\n",
       "  <thead>\n",
       "    <tr style=\"text-align: right;\">\n",
       "      <th></th>\n",
       "      <th>tripduration</th>\n",
       "      <th>starttime</th>\n",
       "      <th>stoptime</th>\n",
       "      <th>start station id</th>\n",
       "      <th>start station name</th>\n",
       "      <th>end station id</th>\n",
       "      <th>end station name</th>\n",
       "      <th>bikeid</th>\n",
       "      <th>usertype</th>\n",
       "      <th>city</th>\n",
       "      <th>weather key</th>\n",
       "      <th>Pecipitation</th>\n",
       "      <th>max temp</th>\n",
       "      <th>min temp</th>\n",
       "      <th>avg wind</th>\n",
       "      <th>Year Month</th>\n",
       "    </tr>\n",
       "  </thead>\n",
       "  <tbody>\n",
       "    <tr>\n",
       "      <th>0</th>\n",
       "      <td>634</td>\n",
       "      <td>2013-07-01 00:00:00</td>\n",
       "      <td>2013-07-01 00:10:34</td>\n",
       "      <td>164</td>\n",
       "      <td>E 47 St &amp; 2 Ave</td>\n",
       "      <td>504</td>\n",
       "      <td>1 Ave &amp; E 15 St</td>\n",
       "      <td>16950</td>\n",
       "      <td>Customer</td>\n",
       "      <td>nyc</td>\n",
       "      <td>20130701</td>\n",
       "      <td>0.84</td>\n",
       "      <td>77</td>\n",
       "      <td>72</td>\n",
       "      <td>3.1</td>\n",
       "      <td>201307</td>\n",
       "    </tr>\n",
       "    <tr>\n",
       "      <th>1</th>\n",
       "      <td>1547</td>\n",
       "      <td>2013-07-01 00:00:02</td>\n",
       "      <td>2013-07-01 00:25:49</td>\n",
       "      <td>388</td>\n",
       "      <td>W 26 St &amp; 10 Ave</td>\n",
       "      <td>459</td>\n",
       "      <td>W 20 St &amp; 11 Ave</td>\n",
       "      <td>19816</td>\n",
       "      <td>Customer</td>\n",
       "      <td>nyc</td>\n",
       "      <td>20130701</td>\n",
       "      <td>0.84</td>\n",
       "      <td>77</td>\n",
       "      <td>72</td>\n",
       "      <td>3.1</td>\n",
       "      <td>201307</td>\n",
       "    </tr>\n",
       "    <tr>\n",
       "      <th>2</th>\n",
       "      <td>178</td>\n",
       "      <td>2013-07-01 00:01:04</td>\n",
       "      <td>2013-07-01 00:04:02</td>\n",
       "      <td>293</td>\n",
       "      <td>Lafayette St &amp; E 8 St</td>\n",
       "      <td>237</td>\n",
       "      <td>E 11 St &amp; 2 Ave</td>\n",
       "      <td>14548</td>\n",
       "      <td>Subscriber</td>\n",
       "      <td>nyc</td>\n",
       "      <td>20130701</td>\n",
       "      <td>0.84</td>\n",
       "      <td>77</td>\n",
       "      <td>72</td>\n",
       "      <td>3.1</td>\n",
       "      <td>201307</td>\n",
       "    </tr>\n",
       "    <tr>\n",
       "      <th>3</th>\n",
       "      <td>1580</td>\n",
       "      <td>2013-07-01 00:01:06</td>\n",
       "      <td>2013-07-01 00:27:26</td>\n",
       "      <td>531</td>\n",
       "      <td>Forsyth St &amp; Broome St</td>\n",
       "      <td>499</td>\n",
       "      <td>Broadway &amp; W 60 St</td>\n",
       "      <td>16063</td>\n",
       "      <td>Customer</td>\n",
       "      <td>nyc</td>\n",
       "      <td>20130701</td>\n",
       "      <td>0.84</td>\n",
       "      <td>77</td>\n",
       "      <td>72</td>\n",
       "      <td>3.1</td>\n",
       "      <td>201307</td>\n",
       "    </tr>\n",
       "    <tr>\n",
       "      <th>4</th>\n",
       "      <td>757</td>\n",
       "      <td>2013-07-01 00:01:10</td>\n",
       "      <td>2013-07-01 00:13:47</td>\n",
       "      <td>382</td>\n",
       "      <td>University Pl &amp; E 14 St</td>\n",
       "      <td>410</td>\n",
       "      <td>Suffolk St &amp; Stanton St</td>\n",
       "      <td>19213</td>\n",
       "      <td>Subscriber</td>\n",
       "      <td>nyc</td>\n",
       "      <td>20130701</td>\n",
       "      <td>0.84</td>\n",
       "      <td>77</td>\n",
       "      <td>72</td>\n",
       "      <td>3.1</td>\n",
       "      <td>201307</td>\n",
       "    </tr>\n",
       "  </tbody>\n",
       "</table>\n",
       "</div>"
      ],
      "text/plain": [
       "   tripduration           starttime            stoptime  start station id  \\\n",
       "0           634 2013-07-01 00:00:00 2013-07-01 00:10:34               164   \n",
       "1          1547 2013-07-01 00:00:02 2013-07-01 00:25:49               388   \n",
       "2           178 2013-07-01 00:01:04 2013-07-01 00:04:02               293   \n",
       "3          1580 2013-07-01 00:01:06 2013-07-01 00:27:26               531   \n",
       "4           757 2013-07-01 00:01:10 2013-07-01 00:13:47               382   \n",
       "\n",
       "        start station name  end station id         end station name  bikeid  \\\n",
       "0          E 47 St & 2 Ave             504          1 Ave & E 15 St   16950   \n",
       "1         W 26 St & 10 Ave             459         W 20 St & 11 Ave   19816   \n",
       "2    Lafayette St & E 8 St             237          E 11 St & 2 Ave   14548   \n",
       "3   Forsyth St & Broome St             499       Broadway & W 60 St   16063   \n",
       "4  University Pl & E 14 St             410  Suffolk St & Stanton St   19213   \n",
       "\n",
       "     usertype city  weather key  Pecipitation  max temp  min temp  avg wind  \\\n",
       "0    Customer  nyc     20130701          0.84        77        72       3.1   \n",
       "1    Customer  nyc     20130701          0.84        77        72       3.1   \n",
       "2  Subscriber  nyc     20130701          0.84        77        72       3.1   \n",
       "3    Customer  nyc     20130701          0.84        77        72       3.1   \n",
       "4  Subscriber  nyc     20130701          0.84        77        72       3.1   \n",
       "\n",
       "  Year Month  \n",
       "0     201307  \n",
       "1     201307  \n",
       "2     201307  \n",
       "3     201307  \n",
       "4     201307  "
      ]
     },
     "execution_count": 4,
     "metadata": {},
     "output_type": "execute_result"
    }
   ],
   "source": [
    "print(\"start 1\")\n",
    "df = pd.read_csv(\"nyc_merged_data_shortened.csv\", parse_dates = [\"starttime\", \"stoptime\"])\n",
    "print(\"end 1\")\n",
    "del df[\"Unnamed: 0\"]\n",
    "\n",
    "print(df.shape)\n",
    "print(\"start 2\")\n",
    "df[\"Year Month\"] = df['starttime'].dt.strftime('%Y%m')\n",
    "print(\"start 3\")\n",
    "df.head()\n"
   ]
  },
  {
   "cell_type": "code",
   "execution_count": 6,
   "metadata": {
    "collapsed": false
   },
   "outputs": [
    {
     "name": "stdout",
     "output_type": "stream",
     "text": [
      "start 1\n"
     ]
    },
    {
     "data": {
      "image/png": "[encoded data removed]",
      "text/plain": [
       "<matplotlib.figure.Figure at 0x113dcf978>"
      ]
     },
     "metadata": {},
     "output_type": "display_data"
    }
   ],
   "source": [
    "print(\"start 1\")\n",
    "df.groupby(['Year Month']).agg({'Year Month': np.count_nonzero}).plot()\n",
    "plt.plot(legend=None)\n",
    "plt.xlabel(\"Number of Monthly Rides\")\n",
    "plt.ylabel(\"Date\")\n",
    "plt.title(\"NYC Monthly Rides from July 2013 to August 2015\")\n",
    "plt.savefig('NYC_Rides Per Month Summary Shortened.png')"
   ]
  },
  {
   "cell_type": "code",
   "execution_count": 7,
   "metadata": {
    "collapsed": false
   },
   "outputs": [
    {
     "name": "stdout",
     "output_type": "stream",
     "text": [
      "start 1\n",
      "end 1\n",
      "(28732390, 15)\n",
      "start 2\n",
      "start 3\n"
     ]
    },
    {
     "data": {
      "text/html": [
       "<div>\n",
       "<table border=\"1\" class=\"dataframe\">\n",
       "  <thead>\n",
       "    <tr style=\"text-align: right;\">\n",
       "      <th></th>\n",
       "      <th>tripduration</th>\n",
       "      <th>starttime</th>\n",
       "      <th>stoptime</th>\n",
       "      <th>start station id</th>\n",
       "      <th>start station name</th>\n",
       "      <th>end station id</th>\n",
       "      <th>end station name</th>\n",
       "      <th>bikeid</th>\n",
       "      <th>usertype</th>\n",
       "      <th>city</th>\n",
       "      <th>weather key</th>\n",
       "      <th>Pecipitation</th>\n",
       "      <th>max temp</th>\n",
       "      <th>min temp</th>\n",
       "      <th>avg wind</th>\n",
       "      <th>Year Month</th>\n",
       "    </tr>\n",
       "  </thead>\n",
       "  <tbody>\n",
       "    <tr>\n",
       "      <th>0</th>\n",
       "      <td>634</td>\n",
       "      <td>2013-07-01 00:00:00</td>\n",
       "      <td>2013-07-01 00:10:34</td>\n",
       "      <td>164</td>\n",
       "      <td>E 47 St &amp; 2 Ave</td>\n",
       "      <td>504</td>\n",
       "      <td>1 Ave &amp; E 15 St</td>\n",
       "      <td>16950</td>\n",
       "      <td>Customer</td>\n",
       "      <td>nyc</td>\n",
       "      <td>20130701</td>\n",
       "      <td>0.84</td>\n",
       "      <td>77</td>\n",
       "      <td>72</td>\n",
       "      <td>3.1</td>\n",
       "      <td>201307</td>\n",
       "    </tr>\n",
       "    <tr>\n",
       "      <th>1</th>\n",
       "      <td>1547</td>\n",
       "      <td>2013-07-01 00:00:02</td>\n",
       "      <td>2013-07-01 00:25:49</td>\n",
       "      <td>388</td>\n",
       "      <td>W 26 St &amp; 10 Ave</td>\n",
       "      <td>459</td>\n",
       "      <td>W 20 St &amp; 11 Ave</td>\n",
       "      <td>19816</td>\n",
       "      <td>Customer</td>\n",
       "      <td>nyc</td>\n",
       "      <td>20130701</td>\n",
       "      <td>0.84</td>\n",
       "      <td>77</td>\n",
       "      <td>72</td>\n",
       "      <td>3.1</td>\n",
       "      <td>201307</td>\n",
       "    </tr>\n",
       "    <tr>\n",
       "      <th>2</th>\n",
       "      <td>178</td>\n",
       "      <td>2013-07-01 00:01:04</td>\n",
       "      <td>2013-07-01 00:04:02</td>\n",
       "      <td>293</td>\n",
       "      <td>Lafayette St &amp; E 8 St</td>\n",
       "      <td>237</td>\n",
       "      <td>E 11 St &amp; 2 Ave</td>\n",
       "      <td>14548</td>\n",
       "      <td>Subscriber</td>\n",
       "      <td>nyc</td>\n",
       "      <td>20130701</td>\n",
       "      <td>0.84</td>\n",
       "      <td>77</td>\n",
       "      <td>72</td>\n",
       "      <td>3.1</td>\n",
       "      <td>201307</td>\n",
       "    </tr>\n",
       "    <tr>\n",
       "      <th>3</th>\n",
       "      <td>1580</td>\n",
       "      <td>2013-07-01 00:01:06</td>\n",
       "      <td>2013-07-01 00:27:26</td>\n",
       "      <td>531</td>\n",
       "      <td>Forsyth St &amp; Broome St</td>\n",
       "      <td>499</td>\n",
       "      <td>Broadway &amp; W 60 St</td>\n",
       "      <td>16063</td>\n",
       "      <td>Customer</td>\n",
       "      <td>nyc</td>\n",
       "      <td>20130701</td>\n",
       "      <td>0.84</td>\n",
       "      <td>77</td>\n",
       "      <td>72</td>\n",
       "      <td>3.1</td>\n",
       "      <td>201307</td>\n",
       "    </tr>\n",
       "    <tr>\n",
       "      <th>4</th>\n",
       "      <td>757</td>\n",
       "      <td>2013-07-01 00:01:10</td>\n",
       "      <td>2013-07-01 00:13:47</td>\n",
       "      <td>382</td>\n",
       "      <td>University Pl &amp; E 14 St</td>\n",
       "      <td>410</td>\n",
       "      <td>Suffolk St &amp; Stanton St</td>\n",
       "      <td>19213</td>\n",
       "      <td>Subscriber</td>\n",
       "      <td>nyc</td>\n",
       "      <td>20130701</td>\n",
       "      <td>0.84</td>\n",
       "      <td>77</td>\n",
       "      <td>72</td>\n",
       "      <td>3.1</td>\n",
       "      <td>201307</td>\n",
       "    </tr>\n",
       "  </tbody>\n",
       "</table>\n",
       "</div>"
      ],
      "text/plain": [
       "   tripduration           starttime            stoptime  start station id  \\\n",
       "0           634 2013-07-01 00:00:00 2013-07-01 00:10:34               164   \n",
       "1          1547 2013-07-01 00:00:02 2013-07-01 00:25:49               388   \n",
       "2           178 2013-07-01 00:01:04 2013-07-01 00:04:02               293   \n",
       "3          1580 2013-07-01 00:01:06 2013-07-01 00:27:26               531   \n",
       "4           757 2013-07-01 00:01:10 2013-07-01 00:13:47               382   \n",
       "\n",
       "        start station name  end station id         end station name  bikeid  \\\n",
       "0          E 47 St & 2 Ave             504          1 Ave & E 15 St   16950   \n",
       "1         W 26 St & 10 Ave             459         W 20 St & 11 Ave   19816   \n",
       "2    Lafayette St & E 8 St             237          E 11 St & 2 Ave   14548   \n",
       "3   Forsyth St & Broome St             499       Broadway & W 60 St   16063   \n",
       "4  University Pl & E 14 St             410  Suffolk St & Stanton St   19213   \n",
       "\n",
       "     usertype city  weather key  Pecipitation  max temp  min temp  avg wind  \\\n",
       "0    Customer  nyc     20130701          0.84        77        72       3.1   \n",
       "1    Customer  nyc     20130701          0.84        77        72       3.1   \n",
       "2  Subscriber  nyc     20130701          0.84        77        72       3.1   \n",
       "3    Customer  nyc     20130701          0.84        77        72       3.1   \n",
       "4  Subscriber  nyc     20130701          0.84        77        72       3.1   \n",
       "\n",
       "  Year Month  \n",
       "0     201307  \n",
       "1     201307  \n",
       "2     201307  \n",
       "3     201307  \n",
       "4     201307  "
      ]
     },
     "execution_count": 7,
     "metadata": {},
     "output_type": "execute_result"
    }
   ],
   "source": [
    "print(\"start 1\")\n",
    "df = pd.read_csv(\"nyc_merged_data.csv\", parse_dates = [\"starttime\", \"stoptime\"])\n",
    "print(\"end 1\")\n",
    "del df[\"Unnamed: 0\"]\n",
    "\n",
    "print(df.shape)\n",
    "print(\"start 2\")\n",
    "df[\"Year Month\"] = df['starttime'].dt.strftime('%Y%m')\n",
    "print(\"start 3\")\n",
    "df.head()"
   ]
  },
  {
   "cell_type": "code",
   "execution_count": 8,
   "metadata": {
    "collapsed": false
   },
   "outputs": [
    {
     "name": "stdout",
     "output_type": "stream",
     "text": [
      "start 1\n"
     ]
    },
    {
     "data": {
      "image/png": "[encoded data removed]",
      "text/plain": [
       "<matplotlib.figure.Figure at 0x155dfc080>"
      ]
     },
     "metadata": {},
     "output_type": "display_data"
    }
   ],
   "source": [
    "print(\"start 1\")\n",
    "df.groupby(['Year Month']).agg({'Year Month': np.count_nonzero}).plot()\n",
    "plt.plot(legend=None)\n",
    "plt.xlabel(\"Number of Monthly Rides\")\n",
    "plt.ylabel(\"Date\")\n",
    "plt.title(\"NYC Monthly Rides from July 2013 to June 2016\")\n",
    "plt.savefig('NYC_Rides Per Month Summary.png')"
   ]
  },
  {
   "cell_type": "code",
   "execution_count": null,
   "metadata": {
    "collapsed": false
   },
   "outputs": [],
   "source": []
  },
  {
   "cell_type": "code",
   "execution_count": null,
   "metadata": {
    "collapsed": false
   },
   "outputs": [],
   "source": []
  },
  {
   "cell_type": "code",
   "execution_count": null,
   "metadata": {
    "collapsed": true
   },
   "outputs": [],
   "source": []
  },
  {
   "cell_type": "code",
   "execution_count": null,
   "metadata": {
    "collapsed": false
   },
   "outputs": [],
   "source": []
  },
  {
   "cell_type": "code",
   "execution_count": null,
   "metadata": {
    "collapsed": false
   },
   "outputs": [],
   "source": []
  },
  {
   "cell_type": "code",
   "execution_count": null,
   "metadata": {
    "collapsed": false
   },
   "outputs": [],
   "source": []
  },
  {
   "cell_type": "code",
   "execution_count": null,
   "metadata": {
    "collapsed": false
   },
   "outputs": [],
   "source": []
  },
  {
   "cell_type": "code",
   "execution_count": null,
   "metadata": {
    "collapsed": false
   },
   "outputs": [],
   "source": []
  },
  {
   "cell_type": "code",
   "execution_count": null,
   "metadata": {
    "collapsed": false
   },
   "outputs": [],
   "source": []
  },
  {
   "cell_type": "code",
   "execution_count": null,
   "metadata": {
    "collapsed": false
   },
   "outputs": [],
   "source": []
  },
  {
   "cell_type": "code",
   "execution_count": null,
   "metadata": {
    "collapsed": false
   },
   "outputs": [],
   "source": []
  },
  {
   "cell_type": "code",
   "execution_count": null,
   "metadata": {
    "collapsed": true
   },
   "outputs": [],
   "source": []
  }
 ],
 "metadata": {
  "kernelspec": {
   "display_name": "Python 3",
   "language": "python",
   "name": "python3"
  },
  "language_info": {
   "codemirror_mode": {
    "name": "ipython",
    "version": 3
   },
   "file_extension": ".py",
   "mimetype": "text/x-python",
   "name": "python",
   "nbconvert_exporter": "python",
   "pygments_lexer": "ipython3",
   "version": "3.5.1"
  }
 },
 "nbformat": 4,
 "nbformat_minor": 0
}
