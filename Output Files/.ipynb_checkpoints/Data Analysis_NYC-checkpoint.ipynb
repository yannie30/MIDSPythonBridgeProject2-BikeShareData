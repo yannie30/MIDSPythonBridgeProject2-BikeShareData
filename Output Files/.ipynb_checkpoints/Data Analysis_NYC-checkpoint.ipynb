{
 "cells": [
  {
   "cell_type": "code",
   "execution_count": null,
   "metadata": {
    "collapsed": false
   },
   "outputs": [],
   "source": [
    "%matplotlib inline\n",
    "import numpy as np\n",
    "import pandas as pd\n",
    "import matplotlib.pyplot as plt"
   ]
  },
  {
   "cell_type": "code",
   "execution_count": null,
   "metadata": {
    "collapsed": false
   },
   "outputs": [],
   "source": [
    "#Impoting NYC Data, create monthly graphs\n",
    "print(\"Start1\")\n",
    "df = pd.read_csv(\"nyc_merged_data.csv\", parse_dates = [\"starttime\", \"stoptime\"])\n",
    "#del df[\"Unnamed: 0\"]\n",
    "\n",
    "print(\"Start2\")\n",
    "print(df.shape)\n",
    "print(\"Start3\")\n",
    "df[\"Date (YearMonth)\"] = df['starttime'].dt.strftime('%Y%m')\n",
    "print(\"Start4\")\n",
    "df[\"Date\"] = df['starttime'].dt.strftime('%Y%m%d')\n",
    "df[\"Month\"] = df['starttime'].dt.strftime('%m').astype(int)\n",
    "df[\"Year\"] = df['starttime'].dt.strftime('%Y').astype(int)\n",
    "\n",
    "#SF Only\n",
    "#sf_df[\"Precipitation_modified\"] = sf_df['Pecipitation'].replace(to_replace = \"T\", value = np.nan).astype(float)\n",
    "\n",
    "print(\"Start5\")\n",
    "df.head()\n",
    "\n"
   ]
  },
  {
   "cell_type": "code",
   "execution_count": null,
   "metadata": {
    "collapsed": false
   },
   "outputs": [],
   "source": [
    "#Overview\n",
    "print(\"start1\")\n",
    "df.groupby(['Date (YearMonth)']).agg({'Date (YearMonth)': np.count_nonzero}).plot()\n",
    "plt.plot(legend=None)\n",
    "plt.xlabel(\"Date\")\n",
    "plt.ylabel(\"Number of Monthly Rides\")\n",
    "plt.title(\"SF Monthly Rides from August 2013 to August 2015\")\n",
    "plt.savefig('SF_Rides Per Month Summary.png')\n"
   ]
  },
  {
   "cell_type": "code",
   "execution_count": null,
   "metadata": {
    "collapsed": false
   },
   "outputs": [],
   "source": [
    "#How do seasons affect ridership? \n",
    "print(\"start1\")\n",
    "ranges = [0,3,6,9,12]\n",
    "labels = ['winter','spring','summer','fall']\n",
    "print(\"start2\")\n",
    "df['Seasons'] = pd.cut(df[\"Month\"], ranges, labels=labels).astype('category')\n",
    "df.groupby(['Seasons']).agg({'Seasons': np.count_nonzero}).plot()\n",
    "plt.xlabel(\"Season\")\n",
    "plt.ylabel(\"Number of Seasonal Rides\")\n",
    "plt.title(\"SF Rides by Season\")\n",
    "plt.savefig('SF_Seasonal_Rides.png')\n",
    "\n",
    "#Number of rides per season\n",
    "print(\"start3\")\n",
    "df.groupby(['Year','Seasons']).agg({'Seasons': np.count_nonzero}).plot(kind='bar')\n",
    "plt.xlabel(\"Season, Year\")\n",
    "plt.ylabel(\"Number of Seasonal Rides Per Year\")\n",
    "plt.title(\"SF Rides by Season, Year\")\n",
    "plt.savefig('SF_Year_Seasonal_Rides.png')\n",
    "\n",
    "#Average Temps\n",
    "print(\"start4\")\n",
    "df.groupby(['Year','Seasons']).agg({'max temp': np.mean, 'min temp': np.mean}).plot(kind='bar')\n",
    "plt.ylabel(\"Number of Seasonal Rides Per Year\")\n",
    "#plt.axis((0,x2,25,250))\n",
    "plt.gca().set_ylim([0,100])\n",
    "\n",
    "#Precipitation\n",
    "df.groupby(['Year','Seasons']).agg({'avg wind' : np.mean}).plot(kind='bar')\n",
    "\n",
    "#Precipitation\n",
    "df.groupby(['Year','Seasons']).agg({'Precipitation_modified' : np.mean}).plot(kind='bar')\n",
    "\n"
   ]
  },
  {
   "cell_type": "code",
   "execution_count": null,
   "metadata": {
    "collapsed": false
   },
   "outputs": [],
   "source": [
    "#Understanding weather distribution\n",
    "print(\"start1\")\n",
    "df.groupby(['Date']).agg({'max temp':[np.count_nonzero, np.mean, np.std], 'min temp': [np.count_nonzero, np.mean, np.std]})"
   ]
  },
  {
   "cell_type": "code",
   "execution_count": null,
   "metadata": {
    "collapsed": false
   },
   "outputs": [],
   "source": [
    "#How does temperature affect ridership? \n",
    "#How do seasons affect ridership?  max temp\tmin temp\n",
    "#ranges = [0,3,6,9,12]\n",
    "#labels = ['winter','spring','summer','fall']\n",
    "print(\"start1\")\n",
    "df.groupby(['max temp']).agg({'Seasons': np.count_nonzero}).plot(kind='bar')\n",
    "df.groupby(['min temp']).agg({'Seasons': np.count_nonzero}).plot(kind='bar')\n",
    "#plt.xlabel(\"Season\")\n",
    "#plt.ylabel(\"Number of Seasonal Rides\")\n",
    "#plt.title(\"SF Rides by Season\")\n",
    "#plt.savefig('SF_Seasonal_Rides.png')"
   ]
  },
  {
   "cell_type": "code",
   "execution_count": null,
   "metadata": {
    "collapsed": false
   },
   "outputs": [],
   "source": [
    "#How does precipitation affect ridership? Pecipitation\n",
    "#ranges = [0,3,6,9,12]\n",
    "#labels = ['winter','spring','summer','fall']\n",
    "print(\"start1\")\n",
    "df.groupby(['Precipitation_modified']).agg({'Seasons': np.count_nonzero})#.plot(kind='bar')\n",
    "#plt.gca().set_xlim([0,10])\n",
    "#plt.xlabel(\"Season\")\n",
    "#plt.ylabel(\"Number of Seasonal Rides\")\n",
    "#plt.title(\"SF Rides by Season\")\n",
    "#plt.savefig('SF_Seasonal_Rides.png')\n",
    "#Precipitation = np.unique(sf_df['Precipitation_modified'])\n",
    "#print(Precipitation)"
   ]
  },
  {
   "cell_type": "code",
   "execution_count": null,
   "metadata": {
    "collapsed": false
   },
   "outputs": [],
   "source": [
    "#How do extreme weather events affect ridership? \n"
   ]
  },
  {
   "cell_type": "code",
   "execution_count": null,
   "metadata": {
    "collapsed": false
   },
   "outputs": [],
   "source": [
    "#How does wind affect ridership? avg wind\n",
    "\n",
    "#ranges = [0,3,6,9,12]\n",
    "#labels = ['winter','spring','summer','fall']\n",
    "print(\"start1\")\n",
    "df.groupby(['avg wind']).agg({'Seasons': np.count_nonzero}).plot(kind='bar')\n",
    "#plt.xlabel(\"Season\")\n",
    "#plt.ylabel(\"Number of Seasonal Rides\")\n",
    "#plt.title(\"SF Rides by Season\")\n",
    "#plt.savefig('SF_Seasonal_Rides.png')"
   ]
  },
  {
   "cell_type": "code",
   "execution_count": null,
   "metadata": {
    "collapsed": false
   },
   "outputs": [],
   "source": []
  },
  {
   "cell_type": "code",
   "execution_count": null,
   "metadata": {
    "collapsed": false
   },
   "outputs": [],
   "source": []
  },
  {
   "cell_type": "code",
   "execution_count": null,
   "metadata": {
    "collapsed": false
   },
   "outputs": [],
   "source": []
  },
  {
   "cell_type": "code",
   "execution_count": null,
   "metadata": {
    "collapsed": true
   },
   "outputs": [],
   "source": []
  },
  {
   "cell_type": "code",
   "execution_count": null,
   "metadata": {
    "collapsed": false
   },
   "outputs": [],
   "source": []
  },
  {
   "cell_type": "code",
   "execution_count": null,
   "metadata": {
    "collapsed": false
   },
   "outputs": [],
   "source": []
  },
  {
   "cell_type": "code",
   "execution_count": null,
   "metadata": {
    "collapsed": false
   },
   "outputs": [],
   "source": []
  },
  {
   "cell_type": "code",
   "execution_count": null,
   "metadata": {
    "collapsed": false
   },
   "outputs": [],
   "source": []
  },
  {
   "cell_type": "code",
   "execution_count": null,
   "metadata": {
    "collapsed": false
   },
   "outputs": [],
   "source": []
  },
  {
   "cell_type": "code",
   "execution_count": null,
   "metadata": {
    "collapsed": false
   },
   "outputs": [],
   "source": []
  },
  {
   "cell_type": "code",
   "execution_count": null,
   "metadata": {
    "collapsed": false
   },
   "outputs": [],
   "source": []
  },
  {
   "cell_type": "code",
   "execution_count": null,
   "metadata": {
    "collapsed": false
   },
   "outputs": [],
   "source": []
  },
  {
   "cell_type": "code",
   "execution_count": null,
   "metadata": {
    "collapsed": true
   },
   "outputs": [],
   "source": []
  }
 ],
 "metadata": {
  "kernelspec": {
   "display_name": "Python 3",
   "language": "python",
   "name": "python3"
  },
  "language_info": {
   "codemirror_mode": {
    "name": "ipython",
    "version": 3
   },
   "file_extension": ".py",
   "mimetype": "text/x-python",
   "name": "python",
   "nbconvert_exporter": "python",
   "pygments_lexer": "ipython3",
   "version": "3.5.1"
  }
 },
 "nbformat": 4,
 "nbformat_minor": 0
}
