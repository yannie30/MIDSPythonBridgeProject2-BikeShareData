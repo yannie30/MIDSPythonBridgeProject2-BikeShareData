{
 "cells": [
  {
   "cell_type": "markdown",
   "metadata": {},
   "source": [
    "# Rider Types Analysis "
   ]
  },
  {
   "cell_type": "markdown",
   "metadata": {},
   "source": [
    "### San Francisco Data Import"
   ]
  },
  {
   "cell_type": "code",
   "execution_count": 97,
   "metadata": {
    "collapsed": false
   },
   "outputs": [
    {
     "name": "stdout",
     "output_type": "stream",
     "text": [
      "Using matplotlib backend: Qt4Agg\n"
     ]
    },
    {
     "data": {
      "text/plain": [
       "Index(['tripduration', 'starttime', 'start station name', 'start station id',\n",
       "       'stoptime', 'end station name', 'end station id', 'bikeid', 'usertype',\n",
       "       'city', 'weather key', 'max temp', 'min temp', 'avg wind',\n",
       "       'Pecipitation'],\n",
       "      dtype='object')"
      ]
     },
     "execution_count": 97,
     "metadata": {},
     "output_type": "execute_result"
    }
   ],
   "source": [
    "# Data Set Up \n",
    "\n",
    "%matplotlib\n",
    "import pandas as pd \n",
    "import numpy as np \n",
    "import datetime as dt \n",
    "\n",
    "sf_data= pd.read_csv('sf_merged_data.csv', parse_dates=['starttime','stoptime'], low_memory= False)\n",
    "del sf_data['Unnamed: 0']\n",
    "sf_data.columns"
   ]
  },
  {
   "cell_type": "markdown",
   "metadata": {},
   "source": [
    "### NYC Data Import"
   ]
  },
  {
   "cell_type": "code",
   "execution_count": 98,
   "metadata": {
    "collapsed": false
   },
   "outputs": [
    {
     "data": {
      "text/plain": [
       "Index(['Unnamed: 0', 'tripduration', 'starttime', 'stoptime',\n",
       "       'start station id', 'start station name', 'end station id',\n",
       "       'end station name', 'bikeid', 'usertype', 'city', 'weather key',\n",
       "       'Pecipitation', 'max temp', 'min temp', 'avg wind'],\n",
       "      dtype='object')"
      ]
     },
     "execution_count": 98,
     "metadata": {},
     "output_type": "execute_result"
    }
   ],
   "source": [
    "# Data Set Up \n",
    "\n",
    "nyc_data= pd.read_csv('nyc_merged_data_shortened.csv', parse_dates=['starttime','stoptime'])\n",
    "nyc_data.columns"
   ]
  },
  {
   "cell_type": "code",
   "execution_count": 99,
   "metadata": {
    "collapsed": false
   },
   "outputs": [
    {
     "data": {
      "text/plain": [
       "Index(['tripduration', 'starttime', 'stoptime', 'start station id',\n",
       "       'start station name', 'end station id', 'end station name', 'bikeid',\n",
       "       'usertype', 'city', 'weather key', 'Pecipitation', 'max temp',\n",
       "       'min temp', 'avg wind'],\n",
       "      dtype='object')"
      ]
     },
     "execution_count": 99,
     "metadata": {},
     "output_type": "execute_result"
    }
   ],
   "source": [
    "del nyc_data['Unnamed: 0']\n",
    "nyc_data.columns"
   ]
  },
  {
   "cell_type": "markdown",
   "metadata": {},
   "source": [
    "### Count of Bike Trips by Distinct RiderType"
   ]
  },
  {
   "cell_type": "code",
   "execution_count": 102,
   "metadata": {
    "collapsed": false
   },
   "outputs": [
    {
     "data": {
      "text/html": [
       "<div>\n",
       "<table border=\"1\" class=\"dataframe\">\n",
       "  <thead>\n",
       "    <tr style=\"text-align: right;\">\n",
       "      <th></th>\n",
       "      <th>tripduration</th>\n",
       "      <th>starttime</th>\n",
       "      <th>stoptime</th>\n",
       "      <th>start station id</th>\n",
       "      <th>start station name</th>\n",
       "      <th>end station id</th>\n",
       "      <th>end station name</th>\n",
       "      <th>bikeid</th>\n",
       "      <th>usertype</th>\n",
       "      <th>city</th>\n",
       "      <th>weather key</th>\n",
       "      <th>Pecipitation</th>\n",
       "      <th>max temp</th>\n",
       "      <th>min temp</th>\n",
       "      <th>avg wind</th>\n",
       "    </tr>\n",
       "  </thead>\n",
       "  <tbody>\n",
       "  </tbody>\n",
       "</table>\n",
       "</div>"
      ],
      "text/plain": [
       "Empty DataFrame\n",
       "Columns: [tripduration, starttime, stoptime, start station id, start station name, end station id, end station name, bikeid, usertype, city, weather key, Pecipitation, max temp, min temp, avg wind]\n",
       "Index: []"
      ]
     },
     "execution_count": 102,
     "metadata": {},
     "output_type": "execute_result"
    }
   ],
   "source": [
    "# No missing Data NYC \n",
    "\n",
    "nyc_missing= nyc_data[(nyc_data['usertype']!= 'Customer' )& (nyc_data['usertype']!='Subscriber')]\n",
    "nyc_missing"
   ]
  },
  {
   "cell_type": "code",
   "execution_count": 9,
   "metadata": {
    "collapsed": false
   },
   "outputs": [
    {
     "data": {
      "text/html": [
       "<div>\n",
       "<table border=\"1\" class=\"dataframe\">\n",
       "  <thead>\n",
       "    <tr style=\"text-align: right;\">\n",
       "      <th></th>\n",
       "      <th>tripduration</th>\n",
       "      <th>starttime</th>\n",
       "      <th>start station name</th>\n",
       "      <th>start station id</th>\n",
       "      <th>stoptime</th>\n",
       "      <th>end station name</th>\n",
       "      <th>end station id</th>\n",
       "      <th>bikeid</th>\n",
       "      <th>usertype</th>\n",
       "      <th>city</th>\n",
       "      <th>weather key</th>\n",
       "      <th>max temp</th>\n",
       "      <th>min temp</th>\n",
       "      <th>avg wind</th>\n",
       "      <th>Pecipitation</th>\n",
       "    </tr>\n",
       "  </thead>\n",
       "  <tbody>\n",
       "  </tbody>\n",
       "</table>\n",
       "</div>"
      ],
      "text/plain": [
       "Empty DataFrame\n",
       "Columns: [tripduration, starttime, start station name, start station id, stoptime, end station name, end station id, bikeid, usertype, city, weather key, max temp, min temp, avg wind, Pecipitation]\n",
       "Index: []"
      ]
     },
     "execution_count": 9,
     "metadata": {},
     "output_type": "execute_result"
    }
   ],
   "source": [
    "# No missing Data \n",
    "\n",
    "sf_missing= sf_data[(sf_data['usertype']!= 'Customer' )& (sf_data['usertype']!='Subscriber')]\n",
    "sf_missing"
   ]
  },
  {
   "cell_type": "code",
   "execution_count": 107,
   "metadata": {
    "collapsed": false
   },
   "outputs": [],
   "source": [
    "sf_rider= sf_data.groupby(['usertype'], as_index= False)['tripduration','starttime'].count()\n",
    "\n",
    "nyc_rider = nyc_data.groupby(['usertype'], as_index= False)['tripduration', 'starttime'].count()\n",
    "\n",
    "#to have this as a dataframe and not a series \n",
    "del nyc_rider['starttime']\n",
    "del sf_rider['starttime']"
   ]
  },
  {
   "cell_type": "code",
   "execution_count": 109,
   "metadata": {
    "collapsed": false
   },
   "outputs": [],
   "source": [
    "\n",
    "nyc_rider.columns= ['RiderType','Count']\n",
    "nyc_rider.set_index(nyc_rider['RiderType'], inplace=True)\n",
    "nyc_rider.index.names= [None]\n",
    "del nyc_rider['RiderType']\n"
   ]
  },
  {
   "cell_type": "code",
   "execution_count": 110,
   "metadata": {
    "collapsed": false
   },
   "outputs": [],
   "source": [
    "\n",
    "sf_rider.columns= ['RiderType','Count']\n",
    "sf_rider.set_index(sf_rider['RiderType'], inplace=True)\n",
    "sf_rider.index.names= [None]\n",
    "sf_rider.columns= ['RiderType','Count']\n",
    "sf_rider.head(5)\n",
    "del sf_rider['RiderType']"
   ]
  },
  {
   "cell_type": "code",
   "execution_count": 113,
   "metadata": {
    "collapsed": false
   },
   "outputs": [
    {
     "data": {
      "text/plain": [
       "<matplotlib.axes._subplots.AxesSubplot at 0xd67af390>"
      ]
     },
     "execution_count": 113,
     "metadata": {},
     "output_type": "execute_result"
    }
   ],
   "source": [
    "sf_rider.plot.pie (y ='Count',figsize=(6,6),legend=False, \n",
    "                   title='Count of Bike Rides by Rider Type -- San Francisco' )"
   ]
  },
  {
   "cell_type": "code",
   "execution_count": 114,
   "metadata": {
    "collapsed": false
   },
   "outputs": [
    {
     "data": {
      "text/plain": [
       "<matplotlib.axes._subplots.AxesSubplot at 0x1a1505c0>"
      ]
     },
     "execution_count": 114,
     "metadata": {},
     "output_type": "execute_result"
    }
   ],
   "source": [
    "nyc_rider.plot.pie (y = 'Count',figsize=(6,6),legend = False,\n",
    "                    title='Count of Bike Rides by Rider Type -- New York' )"
   ]
  },
  {
   "cell_type": "markdown",
   "metadata": {},
   "source": [
    "### Rider Type Count Time Series Comparison "
   ]
  },
  {
   "cell_type": "markdown",
   "metadata": {},
   "source": [
    "### San Fancisco "
   ]
  },
  {
   "cell_type": "code",
   "execution_count": 92,
   "metadata": {
    "collapsed": false
   },
   "outputs": [
    {
     "data": {
      "text/html": [
       "<div>\n",
       "<table border=\"1\" class=\"dataframe\">\n",
       "  <thead>\n",
       "    <tr style=\"text-align: right;\">\n",
       "      <th></th>\n",
       "      <th>date_sort</th>\n",
       "      <th>Date_x</th>\n",
       "      <th>tripduration_x</th>\n",
       "      <th>starttime_x</th>\n",
       "      <th>Date_y</th>\n",
       "      <th>tripduration_y</th>\n",
       "      <th>starttime_y</th>\n",
       "    </tr>\n",
       "  </thead>\n",
       "  <tbody>\n",
       "    <tr>\n",
       "      <th>0</th>\n",
       "      <td>201308</td>\n",
       "      <td>2013Aug</td>\n",
       "      <td>1173</td>\n",
       "      <td>1173</td>\n",
       "      <td>2013Aug</td>\n",
       "      <td>929</td>\n",
       "      <td>929</td>\n",
       "    </tr>\n",
       "    <tr>\n",
       "      <th>1</th>\n",
       "      <td>201309</td>\n",
       "      <td>2013Sep</td>\n",
       "      <td>9476</td>\n",
       "      <td>9476</td>\n",
       "      <td>2013Sep</td>\n",
       "      <td>15767</td>\n",
       "      <td>15767</td>\n",
       "    </tr>\n",
       "    <tr>\n",
       "      <th>2</th>\n",
       "      <td>201310</td>\n",
       "      <td>2013Oct</td>\n",
       "      <td>6126</td>\n",
       "      <td>6126</td>\n",
       "      <td>2013Oct</td>\n",
       "      <td>22979</td>\n",
       "      <td>22979</td>\n",
       "    </tr>\n",
       "    <tr>\n",
       "      <th>3</th>\n",
       "      <td>201311</td>\n",
       "      <td>2013Nov</td>\n",
       "      <td>4489</td>\n",
       "      <td>4489</td>\n",
       "      <td>2013Nov</td>\n",
       "      <td>19730</td>\n",
       "      <td>19730</td>\n",
       "    </tr>\n",
       "    <tr>\n",
       "      <th>4</th>\n",
       "      <td>201312</td>\n",
       "      <td>2013Dec</td>\n",
       "      <td>3235</td>\n",
       "      <td>3235</td>\n",
       "      <td>2013Dec</td>\n",
       "      <td>16659</td>\n",
       "      <td>16659</td>\n",
       "    </tr>\n",
       "  </tbody>\n",
       "</table>\n",
       "</div>"
      ],
      "text/plain": [
       "  date_sort   Date_x  tripduration_x  starttime_x   Date_y  tripduration_y  \\\n",
       "0    201308  2013Aug            1173         1173  2013Aug             929   \n",
       "1    201309  2013Sep            9476         9476  2013Sep           15767   \n",
       "2    201310  2013Oct            6126         6126  2013Oct           22979   \n",
       "3    201311  2013Nov            4489         4489  2013Nov           19730   \n",
       "4    201312  2013Dec            3235         3235  2013Dec           16659   \n",
       "\n",
       "   starttime_y  \n",
       "0          929  \n",
       "1        15767  \n",
       "2        22979  \n",
       "3        19730  \n",
       "4        16659  "
      ]
     },
     "execution_count": 92,
     "metadata": {},
     "output_type": "execute_result"
    }
   ],
   "source": [
    "sf_rider_trend= sf_data.copy()\n",
    "#Create Date Column \n",
    "sf_rider_trend['Date']= sf_rider_trend[\"starttime\"].dt.strftime('%Y%b')\n",
    "sf_rider_trend['date_sort']=sf_rider_trend[\"starttime\"].dt.strftime('%Y%m')\n",
    "\n",
    "# Split by Customer and Subscriber to create Separate Series \n",
    "sf_customer_trend= sf_rider_trend[sf_rider_trend[\"usertype\"]== 'Customer']\n",
    "sf_subscriber_trend = sf_rider_trend[sf_rider_trend['usertype']=='Subscriber']\n",
    "\n",
    "#Group each by Date \n",
    "sf_customer_group = sf_customer_trend.groupby(['date_sort','Date'],as_index=False)['tripduration', 'starttime'].count()\n",
    "sf_subscriber_group= sf_subscriber_trend.groupby(['date_sort','Date'],as_index=False)['tripduration','starttime'].count()\n",
    "\n",
    "#Merge\n",
    "sf_allriders= pd.merge (sf_customer_group,sf_subscriber_group, how = 'left', on ='date_sort')\n",
    "sf_allriders.head()"
   ]
  },
  {
   "cell_type": "code",
   "execution_count": 115,
   "metadata": {
    "collapsed": true
   },
   "outputs": [],
   "source": [
    "del sf_allriders['starttime_x']\n",
    "del sf_allriders['starttime_y']\n",
    "del sf_allriders['Date_y']\n",
    "sf_allriders.columns = ['Date','DateName','Customer','Subscriber']\n",
    "sf_allriders.set_index('Date', inplace=True)\n",
    "sf_allriders.index.names=[None]\n"
   ]
  },
  {
   "cell_type": "code",
   "execution_count": 91,
   "metadata": {
    "collapsed": false
   },
   "outputs": [
    {
     "data": {
      "text/plain": [
       "<matplotlib.axes._subplots.AxesSubplot at 0x3d38d240>"
      ]
     },
     "execution_count": 91,
     "metadata": {},
     "output_type": "execute_result"
    }
   ],
   "source": [
    "sf_allriders.plot.bar( title= 'TimeSeries of Bike Shares by Rider Type -- San Francisco')"
   ]
  },
  {
   "cell_type": "markdown",
   "metadata": {},
   "source": [
    "### New York"
   ]
  },
  {
   "cell_type": "code",
   "execution_count": 93,
   "metadata": {
    "collapsed": true
   },
   "outputs": [],
   "source": [
    "nyc_rider_trend= nyc_data.copy()"
   ]
  },
  {
   "cell_type": "code",
   "execution_count": 103,
   "metadata": {
    "collapsed": false
   },
   "outputs": [
    {
     "data": {
      "text/html": [
       "<div>\n",
       "<table border=\"1\" class=\"dataframe\">\n",
       "  <thead>\n",
       "    <tr style=\"text-align: right;\">\n",
       "      <th></th>\n",
       "      <th>date_sort</th>\n",
       "      <th>Date_x</th>\n",
       "      <th>tripduration_x</th>\n",
       "      <th>starttime_x</th>\n",
       "      <th>Date_y</th>\n",
       "      <th>tripduration_y</th>\n",
       "      <th>starttime_y</th>\n",
       "    </tr>\n",
       "  </thead>\n",
       "  <tbody>\n",
       "    <tr>\n",
       "      <th>0</th>\n",
       "      <td>201307</td>\n",
       "      <td>2013Jul</td>\n",
       "      <td>174915</td>\n",
       "      <td>174915</td>\n",
       "      <td>2013Jul</td>\n",
       "      <td>668501</td>\n",
       "      <td>668501</td>\n",
       "    </tr>\n",
       "    <tr>\n",
       "      <th>1</th>\n",
       "      <td>201308</td>\n",
       "      <td>2013Aug</td>\n",
       "      <td>186056</td>\n",
       "      <td>186056</td>\n",
       "      <td>2013Aug</td>\n",
       "      <td>815902</td>\n",
       "      <td>815902</td>\n",
       "    </tr>\n",
       "    <tr>\n",
       "      <th>2</th>\n",
       "      <td>201309</td>\n",
       "      <td>2013Sep</td>\n",
       "      <td>145169</td>\n",
       "      <td>145169</td>\n",
       "      <td>2013Sep</td>\n",
       "      <td>889190</td>\n",
       "      <td>889190</td>\n",
       "    </tr>\n",
       "    <tr>\n",
       "      <th>3</th>\n",
       "      <td>201310</td>\n",
       "      <td>2013Oct</td>\n",
       "      <td>97446</td>\n",
       "      <td>97446</td>\n",
       "      <td>2013Oct</td>\n",
       "      <td>940266</td>\n",
       "      <td>940266</td>\n",
       "    </tr>\n",
       "    <tr>\n",
       "      <th>4</th>\n",
       "      <td>201311</td>\n",
       "      <td>2013Nov</td>\n",
       "      <td>43973</td>\n",
       "      <td>43973</td>\n",
       "      <td>2013Nov</td>\n",
       "      <td>631801</td>\n",
       "      <td>631801</td>\n",
       "    </tr>\n",
       "  </tbody>\n",
       "</table>\n",
       "</div>"
      ],
      "text/plain": [
       "  date_sort   Date_x  tripduration_x  starttime_x   Date_y  tripduration_y  \\\n",
       "0    201307  2013Jul          174915       174915  2013Jul          668501   \n",
       "1    201308  2013Aug          186056       186056  2013Aug          815902   \n",
       "2    201309  2013Sep          145169       145169  2013Sep          889190   \n",
       "3    201310  2013Oct           97446        97446  2013Oct          940266   \n",
       "4    201311  2013Nov           43973        43973  2013Nov          631801   \n",
       "\n",
       "   starttime_y  \n",
       "0       668501  \n",
       "1       815902  \n",
       "2       889190  \n",
       "3       940266  \n",
       "4       631801  "
      ]
     },
     "execution_count": 103,
     "metadata": {},
     "output_type": "execute_result"
    }
   ],
   "source": [
    "#Note: Query takes some time to Complete: \n",
    "\n",
    "nyc_rider_trend= nyc_data.copy()\n",
    "#Create Date Column \n",
    "nyc_rider_trend['Date']= nyc_rider_trend[\"starttime\"].dt.strftime('%Y%b')\n",
    "nyc_rider_trend['date_sort']=nyc_rider_trend[\"starttime\"].dt.strftime('%Y%m')\n",
    "\n",
    "# Split by Customer and Subscriber to create Separate Series \n",
    "nyc_customer_trend= nyc_rider_trend[nyc_rider_trend[\"usertype\"]== 'Customer']\n",
    "nyc_subscriber_trend = nyc_rider_trend[nyc_rider_trend['usertype']=='Subscriber']\n",
    "\n",
    "#Group each by Date \n",
    "nyc_customer_group = nyc_customer_trend.groupby(['date_sort','Date'],as_index=False)['tripduration', 'starttime'].count()\n",
    "nyc_subscriber_group= nyc_subscriber_trend.groupby(['date_sort','Date'],as_index=False)['tripduration','starttime'].count()\n",
    "\n",
    "#Merge\n",
    "nyc_allriders= pd.merge (nyc_customer_group,nyc_subscriber_group, how = 'left', on ='date_sort')\n",
    "nyc_allriders.head()\n"
   ]
  },
  {
   "cell_type": "code",
   "execution_count": 104,
   "metadata": {
    "collapsed": false
   },
   "outputs": [],
   "source": [
    "del nyc_allriders['starttime_x']\n",
    "del nyc_allriders['starttime_y']\n",
    "del nyc_allriders['Date_y']\n",
    "nyc_allriders.columns = ['Date','DateName','Customer','Subscriber']\n",
    "nyc_allriders.set_index('Date', inplace=True)\n",
    "nyc_allriders.index.names=[None]"
   ]
  },
  {
   "cell_type": "code",
   "execution_count": 106,
   "metadata": {
    "collapsed": false
   },
   "outputs": [
    {
     "data": {
      "text/plain": [
       "<matplotlib.axes._subplots.AxesSubplot at 0x14dd0c1d0>"
      ]
     },
     "execution_count": 106,
     "metadata": {},
     "output_type": "execute_result"
    }
   ],
   "source": [
    "nyc_allriders.plot.bar( title= 'TimeSeries of Bike Shares by Rider Type -- New York')"
   ]
  }
 ],
 "metadata": {
  "kernelspec": {
   "display_name": "Python 3",
   "language": "python",
   "name": "python3"
  },
  "language_info": {
   "codemirror_mode": {
    "name": "ipython",
    "version": 3
   },
   "file_extension": ".py",
   "mimetype": "text/x-python",
   "name": "python",
   "nbconvert_exporter": "python",
   "pygments_lexer": "ipython3",
   "version": "3.5.1"
  }
 },
 "nbformat": 4,
 "nbformat_minor": 0
}
