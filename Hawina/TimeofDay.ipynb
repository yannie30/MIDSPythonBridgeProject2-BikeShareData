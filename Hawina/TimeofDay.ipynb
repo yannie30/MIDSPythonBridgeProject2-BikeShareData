{
 "cells": [
  {
   "cell_type": "markdown",
   "metadata": {},
   "source": [
    "# Time of Day Analysis"
   ]
  },
  {
   "cell_type": "markdown",
   "metadata": {},
   "source": [
    "### San Francisco Data Import"
   ]
  },
  {
   "cell_type": "code",
   "execution_count": 4,
   "metadata": {
    "collapsed": false
   },
   "outputs": [
    {
     "name": "stdout",
     "output_type": "stream",
     "text": [
      "Using matplotlib backend: Qt4Agg\n"
     ]
    },
    {
     "data": {
      "text/plain": [
       "Index(['tripduration', 'starttime', 'start station name', 'start station id',\n",
       "       'stoptime', 'end station name', 'end station id', 'bikeid', 'usertype',\n",
       "       'city', 'weather key', 'max temp', 'min temp', 'avg wind',\n",
       "       'Pecipitation'],\n",
       "      dtype='object')"
      ]
     },
     "execution_count": 4,
     "metadata": {},
     "output_type": "execute_result"
    }
   ],
   "source": [
    "# Data Set Up \n",
    "\n",
    "%matplotlib\n",
    "import pandas as pd \n",
    "import numpy as np \n",
    "import datetime as dt \n",
    "\n",
    "sf_data= pd.read_csv('sf_merged_data.csv', parse_dates=['starttime','stoptime'], low_memory= False)\n",
    "del sf_data['Unnamed: 0']\n",
    "sf_data.columns"
   ]
  },
  {
   "cell_type": "markdown",
   "metadata": {},
   "source": [
    "### New York Data Import "
   ]
  },
  {
   "cell_type": "code",
   "execution_count": 5,
   "metadata": {
    "collapsed": false
   },
   "outputs": [
    {
     "data": {
      "text/plain": [
       "Index(['Unnamed: 0', 'tripduration', 'starttime', 'stoptime',\n",
       "       'start station id', 'start station name', 'end station id',\n",
       "       'end station name', 'bikeid', 'usertype', 'city', 'weather key',\n",
       "       'Pecipitation', 'max temp', 'min temp', 'avg wind'],\n",
       "      dtype='object')"
      ]
     },
     "execution_count": 5,
     "metadata": {},
     "output_type": "execute_result"
    }
   ],
   "source": [
    "\n",
    "nyc_data= pd.read_csv('nyc_merged_data_shortened.csv', parse_dates=['starttime','stoptime'])\n",
    "nyc_data.columns\n",
    "\n"
   ]
  },
  {
   "cell_type": "code",
   "execution_count": 4,
   "metadata": {
    "collapsed": false
   },
   "outputs": [
    {
     "data": {
      "text/plain": [
       "Index(['tripduration', 'starttime', 'stoptime', 'start station id',\n",
       "       'start station name', 'end station id', 'end station name', 'bikeid',\n",
       "       'usertype', 'city', 'weather key', 'Pecipitation', 'max temp',\n",
       "       'min temp', 'avg wind'],\n",
       "      dtype='object')"
      ]
     },
     "execution_count": 4,
     "metadata": {},
     "output_type": "execute_result"
    }
   ],
   "source": [
    "del nyc_data['Unnamed: 0']\n",
    "nyc_data.columns"
   ]
  },
  {
   "cell_type": "markdown",
   "metadata": {},
   "source": [
    "### Bike Share Usage by Day of the Week"
   ]
  },
  {
   "cell_type": "markdown",
   "metadata": {},
   "source": [
    "#### San Francisco "
   ]
  },
  {
   "cell_type": "code",
   "execution_count": 51,
   "metadata": {
    "collapsed": true
   },
   "outputs": [],
   "source": [
    "sf_data_time = sf_data.copy()\n",
    "sf_data_time['Day_Name']= sf_data_time[\"starttime\"].dt.strftime('%A')"
   ]
  },
  {
   "cell_type": "code",
   "execution_count": 13,
   "metadata": {
    "collapsed": false
   },
   "outputs": [
    {
     "data": {
      "text/html": [
       "<div>\n",
       "<table border=\"1\" class=\"dataframe\">\n",
       "  <thead>\n",
       "    <tr style=\"text-align: right;\">\n",
       "      <th></th>\n",
       "      <th>Count</th>\n",
       "    </tr>\n",
       "  </thead>\n",
       "  <tbody>\n",
       "    <tr>\n",
       "      <th>Friday</th>\n",
       "      <td>109361</td>\n",
       "    </tr>\n",
       "    <tr>\n",
       "      <th>Monday</th>\n",
       "      <td>115873</td>\n",
       "    </tr>\n",
       "    <tr>\n",
       "      <th>Saturday</th>\n",
       "      <td>44785</td>\n",
       "    </tr>\n",
       "    <tr>\n",
       "      <th>Sunday</th>\n",
       "      <td>38391</td>\n",
       "    </tr>\n",
       "    <tr>\n",
       "      <th>Thursday</th>\n",
       "      <td>119089</td>\n",
       "    </tr>\n",
       "    <tr>\n",
       "      <th>Tuesday</th>\n",
       "      <td>122259</td>\n",
       "    </tr>\n",
       "    <tr>\n",
       "      <th>Wednesday</th>\n",
       "      <td>120201</td>\n",
       "    </tr>\n",
       "  </tbody>\n",
       "</table>\n",
       "</div>"
      ],
      "text/plain": [
       "            Count\n",
       "Friday     109361\n",
       "Monday     115873\n",
       "Saturday    44785\n",
       "Sunday      38391\n",
       "Thursday   119089\n",
       "Tuesday    122259\n",
       "Wednesday  120201"
      ]
     },
     "execution_count": 13,
     "metadata": {},
     "output_type": "execute_result"
    }
   ],
   "source": [
    "sf_grouped_time= sf_data_time.groupby(['Day_Name'], as_index= False )['tripduration'].count()\n",
    "sf_grouped_time.head(5)\n",
    "sf_grouped_time.set_index('Day_Name',inplace=True)\n",
    "sf_grouped_time.index.names = [None]\n",
    "sf_grouped_time.columns= ['Count']\n",
    "sf_grouped_time"
   ]
  },
  {
   "cell_type": "code",
   "execution_count": 12,
   "metadata": {
    "collapsed": false
   },
   "outputs": [
    {
     "data": {
      "text/plain": [
       "<matplotlib.axes._subplots.AxesSubplot at 0xf20b40b8>"
      ]
     },
     "execution_count": 12,
     "metadata": {},
     "output_type": "execute_result"
    }
   ],
   "source": [
    "sf_grouped_time.plot.bar(title = 'Count of Trips by Day of Week -- San Francisco', legend= False)"
   ]
  },
  {
   "cell_type": "markdown",
   "metadata": {},
   "source": [
    "#### New York "
   ]
  },
  {
   "cell_type": "code",
   "execution_count": 8,
   "metadata": {
    "collapsed": true
   },
   "outputs": [],
   "source": [
    "nyc_data_time = nyc_data.copy()\n",
    "nyc_data_time['Day_Name']= nyc_data_time[\"starttime\"].dt.strftime('%A')"
   ]
  },
  {
   "cell_type": "code",
   "execution_count": 17,
   "metadata": {
    "collapsed": false
   },
   "outputs": [
    {
     "data": {
      "text/html": [
       "<div>\n",
       "<table border=\"1\" class=\"dataframe\">\n",
       "  <thead>\n",
       "    <tr style=\"text-align: right;\">\n",
       "      <th></th>\n",
       "      <th>Count</th>\n",
       "    </tr>\n",
       "  </thead>\n",
       "  <tbody>\n",
       "    <tr>\n",
       "      <th>Friday</th>\n",
       "      <td>2822328</td>\n",
       "    </tr>\n",
       "    <tr>\n",
       "      <th>Monday</th>\n",
       "      <td>2774931</td>\n",
       "    </tr>\n",
       "    <tr>\n",
       "      <th>Saturday</th>\n",
       "      <td>2324128</td>\n",
       "    </tr>\n",
       "    <tr>\n",
       "      <th>Sunday</th>\n",
       "      <td>2280656</td>\n",
       "    </tr>\n",
       "    <tr>\n",
       "      <th>Thursday</th>\n",
       "      <td>2832592</td>\n",
       "    </tr>\n",
       "    <tr>\n",
       "      <th>Tuesday</th>\n",
       "      <td>2837382</td>\n",
       "    </tr>\n",
       "    <tr>\n",
       "      <th>Wednesday</th>\n",
       "      <td>2891007</td>\n",
       "    </tr>\n",
       "  </tbody>\n",
       "</table>\n",
       "</div>"
      ],
      "text/plain": [
       "             Count\n",
       "Friday     2822328\n",
       "Monday     2774931\n",
       "Saturday   2324128\n",
       "Sunday     2280656\n",
       "Thursday   2832592\n",
       "Tuesday    2837382\n",
       "Wednesday  2891007"
      ]
     },
     "execution_count": 17,
     "metadata": {},
     "output_type": "execute_result"
    }
   ],
   "source": [
    "nyc_grouped_time= nyc_data_time.groupby(['Day_Name'], as_index= False )['tripduration'].count()\n",
    "nyc_grouped_time.head(5)\n",
    "nyc_grouped_time.set_index('Day_Name',inplace=True)\n",
    "nyc_grouped_time.index.names = [None]\n",
    "nyc_grouped_time.columns= ['Count']\n",
    "nyc_grouped_time"
   ]
  },
  {
   "cell_type": "code",
   "execution_count": 18,
   "metadata": {
    "collapsed": false
   },
   "outputs": [
    {
     "data": {
      "text/plain": [
       "<matplotlib.axes._subplots.AxesSubplot at 0xa8c355c0>"
      ]
     },
     "execution_count": 18,
     "metadata": {},
     "output_type": "execute_result"
    }
   ],
   "source": [
    "sf_grouped_time.plot.bar(title = 'Count of Trips by Day of Week -- New York', legend= False)"
   ]
  },
  {
   "cell_type": "markdown",
   "metadata": {},
   "source": [
    "### Bike Share Usage: Weekday vs Weekend by RiderType"
   ]
  },
  {
   "cell_type": "markdown",
   "metadata": {},
   "source": [
    "#### San Francisco "
   ]
  },
  {
   "cell_type": "code",
   "execution_count": 9,
   "metadata": {
    "collapsed": false
   },
   "outputs": [],
   "source": [
    "# Takes a few mins to process...\n",
    "sf_data_time['Weekend']= list(map(lambda x: 1 if x in ['Saturday','Sunday'] else 0, sf_data_time['Day_Name']))\n",
    "sf_data_time['Weekday']= list(map(lambda x: 0 if x in ['Saturday','Sunday'] else 1, sf_data_time['Day_Name']))"
   ]
  },
  {
   "cell_type": "code",
   "execution_count": 10,
   "metadata": {
    "collapsed": false
   },
   "outputs": [],
   "source": [
    "sf_week= sf_data_time.groupby(['usertype'])['Weekend','Weekday'].sum()"
   ]
  },
  {
   "cell_type": "code",
   "execution_count": 25,
   "metadata": {
    "collapsed": false
   },
   "outputs": [
    {
     "data": {
      "text/plain": [
       "<matplotlib.axes._subplots.AxesSubplot at 0xa4906240>"
      ]
     },
     "execution_count": 25,
     "metadata": {},
     "output_type": "execute_result"
    }
   ],
   "source": [
    "sf_week.index.names= [None]\n",
    "sf_week.head()\n",
    "sf_week.plot.bar(title='Count of Rides: Time of Week by Rider Type -- San Francisco')"
   ]
  },
  {
   "cell_type": "markdown",
   "metadata": {},
   "source": [
    "#### New York "
   ]
  },
  {
   "cell_type": "code",
   "execution_count": 15,
   "metadata": {
    "collapsed": true
   },
   "outputs": [],
   "source": [
    "nyc_data_time['Weekend']= list(map(lambda x: 1 if x in ['Saturday','Sunday'] else 0, nyc_data_time['Day_Name']))\n",
    "nyc_data_time['Weekday']= list(map(lambda x: 0 if x in ['Saturday','Sunday'] else 1, nyc_data_time['Day_Name']))"
   ]
  },
  {
   "cell_type": "code",
   "execution_count": 20,
   "metadata": {
    "collapsed": true
   },
   "outputs": [],
   "source": [
    "nyc_week= nyc_data_time.groupby(['usertype'])['Weekend','Weekday'].sum()\n",
    "nyc_week.head()"
   ]
  },
  {
   "cell_type": "code",
   "execution_count": 26,
   "metadata": {
    "collapsed": false
   },
   "outputs": [
    {
     "data": {
      "text/plain": [
       "<matplotlib.axes._subplots.AxesSubplot at 0xa486b1d0>"
      ]
     },
     "execution_count": 26,
     "metadata": {},
     "output_type": "execute_result"
    }
   ],
   "source": [
    "nyc_week.index.names= [None]\n",
    "nyc_week.plot.bar(title='Count of Rides: Time of Week by Rider Type -- New York')"
   ]
  },
  {
   "cell_type": "markdown",
   "metadata": {},
   "source": [
    "## Bike Share Usage by Time of Day"
   ]
  },
  {
   "cell_type": "markdown",
   "metadata": {},
   "source": [
    "#### San Francisco"
   ]
  },
  {
   "cell_type": "code",
   "execution_count": 60,
   "metadata": {
    "collapsed": false
   },
   "outputs": [],
   "source": [
    "sf_data_time['Day_Hour']= list(sf_data_time[\"starttime\"].dt.strftime('%H'))\n",
    "sf_data_time['12am-6am']= list(map(lambda x:1 if int(x)>=0 and int(x)<6 else 0, sf_data_time['Day_Hour']))\n",
    "sf_data_time['6am-12pm']= list(map(lambda x:1 if int(x)>=6 and int(x)<12 else 0, sf_data_time['Day_Hour']))\n",
    "sf_data_time['12pm-6pm']= list(map(lambda x:1 if int(x)>=12 and int(x)<18 else 0, sf_data_time['Day_Hour']))\n",
    "sf_data_time['6pm-12am']= list(map(lambda x:1 if int(x)>=18 and int(x)<24 else 0, sf_data_time['Day_Hour']))"
   ]
  },
  {
   "cell_type": "code",
   "execution_count": 88,
   "metadata": {
    "collapsed": false
   },
   "outputs": [
    {
     "data": {
      "text/plain": [
       "<matplotlib.axes._subplots.AxesSubplot at 0xc3ce85c0>"
      ]
     },
     "execution_count": 88,
     "metadata": {},
     "output_type": "execute_result"
    }
   ],
   "source": [
    "sf_times_1 = pd.Series ([sf_data_time['12am-6am'].sum(),sf_data_time['6am-12pm'].sum(), sf_data_time['12pm-6pm'].sum(),\n",
    "                       sf_data_time['6pm-12am'].sum()], index= ['12am-6am','6am-12pm','12pm-6pm','6pm-12am'])\n",
    "                \n",
    "                       \n",
    "sf_times_1.plot.bar(title= 'Bike Share Usage by Time of Day -- San Francisco')"
   ]
  },
  {
   "cell_type": "markdown",
   "metadata": {},
   "source": [
    "#### New York"
   ]
  },
  {
   "cell_type": "code",
   "execution_count": null,
   "metadata": {
    "collapsed": false
   },
   "outputs": [],
   "source": [
    "nyc_data_time['Day_Hour']= list(nyc_data_time[\"starttime\"].dt.strftime('%H'))\n",
    "nyc_data_time['12am-6am']= list(map(lambda x:1 if int(x)>=0 and int(x)<6 else 0, nyc_data_time['Day_Hour']))\n",
    "nyc_data_time['6am-12pm']= list(map(lambda x:1 if int(x)>=6 and int(x)<12 else 0, nyc_data_time['Day_Hour']))\n",
    "nyc_data_time['12pm-6pm']= list(map(lambda x:1 if int(x)>=12 and int(x)<18 else 0, nyc_data_time['Day_Hour']))\n",
    "nyc_data_time['6pm-12am']= list(map(lambda x:1 if int(x)>=18 and int(x)<24 else 0, nyc_data_time['Day_Hour']))\n"
   ]
  },
  {
   "cell_type": "code",
   "execution_count": 91,
   "metadata": {
    "collapsed": false
   },
   "outputs": [
    {
     "data": {
      "text/plain": [
       "<matplotlib.axes._subplots.AxesSubplot at 0xa5348a90>"
      ]
     },
     "execution_count": 91,
     "metadata": {},
     "output_type": "execute_result"
    }
   ],
   "source": [
    "nyc_times = pd.Series  ([nyc_data_time['12am-6am'].sum(),nyc_data_time['6am-12pm'].sum(), nyc_data_time['12pm-6pm'].sum(),\n",
    "                       nyc_data_time['6pm-12am'].sum()], index= ['12am-6am','6am-12pm','12pm-6pm','6pm-12am'])\n",
    "                                       \n",
    "nyc_times.plot.bar(title= 'Bike Share Usage by Time of Day -- New York')"
   ]
  },
  {
   "cell_type": "markdown",
   "metadata": {},
   "source": [
    "#### New York"
   ]
  },
  {
   "cell_type": "markdown",
   "metadata": {},
   "source": [
    "## Time of Usage by Rider Type"
   ]
  },
  {
   "cell_type": "markdown",
   "metadata": {},
   "source": [
    "#### San Francisco"
   ]
  },
  {
   "cell_type": "code",
   "execution_count": 47,
   "metadata": {
    "collapsed": false
   },
   "outputs": [
    {
     "data": {
      "text/plain": [
       "<matplotlib.axes._subplots.AxesSubplot at 0xa4c3f9b0>"
      ]
     },
     "execution_count": 47,
     "metadata": {},
     "output_type": "execute_result"
    }
   ],
   "source": [
    "sf_day_time = sf_data_time.groupby(['usertype'])['12am-6am', '6am-12pm', '12pm-6pm', '6pm-12am'].sum()\n",
    "sf_day_time.index.names = ['None']\n",
    "sf_day_time.plot.bar(title='Time of Usage by Rider Type -- San Francisco')"
   ]
  },
  {
   "cell_type": "code",
   "execution_count": null,
   "metadata": {
    "collapsed": true
   },
   "outputs": [],
   "source": [
    "sf_day_time = sf_data_time.groupby(['usertype'])['5am-10am', '10am-3pm', '3pm-8pm', '8pm-12am'].sum()\n",
    "sf_day_time.index.names = ['None']\n",
    "sf_day_time.plot.bar(title='Time of Usage by Rider Type -- San Francisco')"
   ]
  },
  {
   "cell_type": "markdown",
   "metadata": {},
   "source": [
    "#### New York"
   ]
  },
  {
   "cell_type": "code",
   "execution_count": null,
   "metadata": {
    "collapsed": false
   },
   "outputs": [],
   "source": [
    "nyc_day_time = nyc_data_time.groupby(['usertype'])['12am-6am', '6am-12pm', '12pm-6pm', '6pm-12am'].sum()\n",
    "nyc_day_time.index.names= ['None']\n",
    "nyc_day_time.plot.bar(title='Time of Usage by Rider Type -- New York')"
   ]
  },
  {
   "cell_type": "code",
   "execution_count": null,
   "metadata": {
    "collapsed": true
   },
   "outputs": [],
   "source": []
  }
 ],
 "metadata": {
  "kernelspec": {
   "display_name": "Python 3",
   "language": "python",
   "name": "python3"
  },
  "language_info": {
   "codemirror_mode": {
    "name": "ipython",
    "version": 3
   },
   "file_extension": ".py",
   "mimetype": "text/x-python",
   "name": "python",
   "nbconvert_exporter": "python",
   "pygments_lexer": "ipython3",
   "version": "3.5.1"
  }
 },
 "nbformat": 4,
 "nbformat_minor": 0
}
